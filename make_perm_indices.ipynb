{
 "cells": [
  {
   "cell_type": "code",
   "execution_count": 1,
   "id": "d6596546-4c13-4e9c-8458-822a4d490e6e",
   "metadata": {},
   "outputs": [],
   "source": [
    "import jax.numpy as jnp"
   ]
  },
  {
   "cell_type": "code",
   "execution_count": 2,
   "id": "f527e47e-7ea4-4cf6-a57c-466bccf745c8",
   "metadata": {},
   "outputs": [
    {
     "data": {
      "text/plain": [
       "Array([0, 1, 0], dtype=int32)"
      ]
     },
     "execution_count": 2,
     "metadata": {},
     "output_type": "execute_result"
    }
   ],
   "source": [
    "jnp.array([0, 1, 0])"
   ]
  },
  {
   "cell_type": "code",
   "execution_count": 10,
   "id": "794e3323-c1ab-458b-bacb-3ef68cee4603",
   "metadata": {},
   "outputs": [
    {
     "data": {
      "text/plain": [
       "Array([8191, 8190, 8189, ...,    2,    1,    0], dtype=int32)"
      ]
     },
     "execution_count": 10,
     "metadata": {},
     "output_type": "execute_result"
    }
   ],
   "source": [
    "b1 = jnp.array(list(range(0, 8192))[::-1])\n",
    "b1"
   ]
  },
  {
   "cell_type": "code",
   "execution_count": 11,
   "id": "481cd430-f5dd-4372-8b74-b3b40ea37708",
   "metadata": {},
   "outputs": [],
   "source": [
    "b2 = jnp.array(range(8192, 77909120))"
   ]
  },
  {
   "cell_type": "code",
   "execution_count": 9,
   "id": "d4da190e-856d-4c14-bd7e-85cde9b0dd27",
   "metadata": {},
   "outputs": [
    {
     "data": {
      "text/plain": [
       "Array([81920, 81921, 81922, ..., 90109, 90110, 90111], dtype=int32)"
      ]
     },
     "execution_count": 9,
     "metadata": {},
     "output_type": "execute_result"
    }
   ],
   "source": [
    "b2"
   ]
  },
  {
   "cell_type": "code",
   "execution_count": 12,
   "id": "74da9162-5f58-494f-a3de-5a319564795b",
   "metadata": {},
   "outputs": [],
   "source": [
    "indices = jnp.concatenate([b1, b2])"
   ]
  },
  {
   "cell_type": "code",
   "execution_count": 13,
   "id": "fe6f3d1a-3548-4bcc-bd9d-7c9ec3bf3788",
   "metadata": {},
   "outputs": [
    {
     "data": {
      "text/plain": [
       "Array([    8191,     8190,     8189, ..., 77909117, 77909118, 77909119],      dtype=int32)"
      ]
     },
     "execution_count": 13,
     "metadata": {},
     "output_type": "execute_result"
    }
   ],
   "source": [
    "indices"
   ]
  },
  {
   "cell_type": "code",
   "execution_count": 14,
   "id": "6cda1388-3c85-4eae-96ad-66d15e70af47",
   "metadata": {},
   "outputs": [],
   "source": [
    "jnp.save('test_perm.npy', indices)"
   ]
  },
  {
   "cell_type": "code",
   "execution_count": null,
   "id": "7e133aac-2229-4afa-8e52-a3995b3c9ee6",
   "metadata": {},
   "outputs": [],
   "source": []
  },
  {
   "cell_type": "code",
   "execution_count": null,
   "id": "05f19889-8f39-40f4-92c7-b43382308264",
   "metadata": {},
   "outputs": [],
   "source": []
  },
  {
   "cell_type": "code",
   "execution_count": null,
   "id": "ddc1185d-3905-435c-a8df-ef40edeffa38",
   "metadata": {},
   "outputs": [],
   "source": []
  },
  {
   "cell_type": "code",
   "execution_count": null,
   "id": "ebcb09ae-1aa9-4a36-a299-40090e314cc6",
   "metadata": {},
   "outputs": [],
   "source": []
  }
 ],
 "metadata": {
  "kernelspec": {
   "display_name": "Python 3 (ipykernel)",
   "language": "python",
   "name": "python3"
  },
  "language_info": {
   "codemirror_mode": {
    "name": "ipython",
    "version": 3
   },
   "file_extension": ".py",
   "mimetype": "text/x-python",
   "name": "python",
   "nbconvert_exporter": "python",
   "pygments_lexer": "ipython3",
   "version": "3.10.16"
  }
 },
 "nbformat": 4,
 "nbformat_minor": 5
}
