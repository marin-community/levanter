{
 "cells": [
  {
   "cell_type": "markdown",
   "metadata": {},
   "source": [
    "# Tensor Parallelism in Haliax\n",
    "In the [last tutorial](https://colab.research.google.com/drive/1QX4yH3zRFF3Xiibf1aahETcSQ5nbcUMz) we looked at how to do distributed training in [Haliax](https://github.com/stanford-crfm/haliax), including an implementation of FSDP.\n",
    "\n",
    "Today, we're going to add [Tensor Parallelism](https://huggingface.co/transformers/v4.9.0/parallelism.html#tensor-parallelism) a la [Megatron](https://arxiv.org/abs/2104.04473).\n",
    "\n",
    "Haliax (and Jax) make this easy. As with FSDP, we'll make no changes to our model code. This time, the only changes to our training loop will just be extracting a few variables.\n",
    "\n",
    "The end result will be 5 lines of code. (You can skip to the TL;DR if you want!)"
   ]
  },
  {
   "cell_type": "markdown",
   "metadata": {},
   "source": [
    "## Installation\n",
    "\n",
    "Before diving in, we're going to do the obligatory ceremony where we install everything. You can skip this part."
   ]
  },
  {
   "cell_type": "code",
   "execution_count": null,
   "metadata": {},
   "outputs": [
    {
     "name": "stdout",
     "output_type": "stream",
     "text": [
      "Requirement already satisfied: jax[cuda12] in /usr/local/lib/python3.10/dist-packages (0.4.35)\n",
      "Requirement already satisfied: jaxlib<=0.4.35,>=0.4.34 in /usr/local/lib/python3.10/dist-packages (from jax[cuda12]) (0.4.34)\n",
      "Requirement already satisfied: ml-dtypes>=0.4.0 in /usr/local/lib/python3.10/dist-packages (from jax[cuda12]) (0.4.1)\n",
      "Requirement already satisfied: numpy>=1.24 in /usr/local/lib/python3.10/dist-packages (from jax[cuda12]) (1.26.4)\n",
      "Requirement already satisfied: opt-einsum in /usr/local/lib/python3.10/dist-packages (from jax[cuda12]) (3.4.0)\n",
      "Requirement already satisfied: scipy>=1.10 in /usr/local/lib/python3.10/dist-packages (from jax[cuda12]) (1.13.1)\n",
      "Requirement already satisfied: jax-cuda12-plugin<=0.4.35,>=0.4.34 in /usr/local/lib/python3.10/dist-packages (from jax-cuda12-plugin[with_cuda]<=0.4.35,>=0.4.34; extra == \"cuda12\"->jax[cuda12]) (0.4.35)\n",
      "Requirement already satisfied: jax-cuda12-pjrt==0.4.35 in /usr/local/lib/python3.10/dist-packages (from jax-cuda12-plugin<=0.4.35,>=0.4.34->jax-cuda12-plugin[with_cuda]<=0.4.35,>=0.4.34; extra == \"cuda12\"->jax[cuda12]) (0.4.35)\n",
      "Requirement already satisfied: nvidia-cublas-cu12>=12.1.3.1 in /usr/local/lib/python3.10/dist-packages (from jax-cuda12-plugin[with_cuda]<=0.4.35,>=0.4.34; extra == \"cuda12\"->jax[cuda12]) (12.6.3.3)\n",
      "Requirement already satisfied: nvidia-cuda-cupti-cu12>=12.1.105 in /usr/local/lib/python3.10/dist-packages (from jax-cuda12-plugin[with_cuda]<=0.4.35,>=0.4.34; extra == \"cuda12\"->jax[cuda12]) (12.6.80)\n",
      "Requirement already satisfied: nvidia-cuda-nvcc-cu12>=12.1.105 in /usr/local/lib/python3.10/dist-packages (from jax-cuda12-plugin[with_cuda]<=0.4.35,>=0.4.34; extra == \"cuda12\"->jax[cuda12]) (12.6.77)\n",
      "Requirement already satisfied: nvidia-cuda-runtime-cu12>=12.1.105 in /usr/local/lib/python3.10/dist-packages (from jax-cuda12-plugin[with_cuda]<=0.4.35,>=0.4.34; extra == \"cuda12\"->jax[cuda12]) (12.6.77)\n",
      "Requirement already satisfied: nvidia-cudnn-cu12<10.0,>=9.1 in /usr/local/lib/python3.10/dist-packages (from jax-cuda12-plugin[with_cuda]<=0.4.35,>=0.4.34; extra == \"cuda12\"->jax[cuda12]) (9.5.1.17)\n",
      "Requirement already satisfied: nvidia-cufft-cu12>=11.0.2.54 in /usr/local/lib/python3.10/dist-packages (from jax-cuda12-plugin[with_cuda]<=0.4.35,>=0.4.34; extra == \"cuda12\"->jax[cuda12]) (11.3.0.4)\n",
      "Requirement already satisfied: nvidia-cusolver-cu12>=11.4.5.107 in /usr/local/lib/python3.10/dist-packages (from jax-cuda12-plugin[with_cuda]<=0.4.35,>=0.4.34; extra == \"cuda12\"->jax[cuda12]) (11.7.1.2)\n",
      "Requirement already satisfied: nvidia-cusparse-cu12>=12.1.0.106 in /usr/local/lib/python3.10/dist-packages (from jax-cuda12-plugin[with_cuda]<=0.4.35,>=0.4.34; extra == \"cuda12\"->jax[cuda12]) (12.5.4.2)\n",
      "Requirement already satisfied: nvidia-nccl-cu12>=2.18.1 in /usr/local/lib/python3.10/dist-packages (from jax-cuda12-plugin[with_cuda]<=0.4.35,>=0.4.34; extra == \"cuda12\"->jax[cuda12]) (2.23.4)\n",
      "Requirement already satisfied: nvidia-nvjitlink-cu12>=12.1.105 in /usr/local/lib/python3.10/dist-packages (from jax-cuda12-plugin[with_cuda]<=0.4.35,>=0.4.34; extra == \"cuda12\"->jax[cuda12]) (12.6.77)\n",
      "Requirement already satisfied: haliax>=1.4.dev322 in /usr/local/lib/python3.10/dist-packages (1.4.dev322)\n",
      "Requirement already satisfied: equinox in /usr/local/lib/python3.10/dist-packages (0.11.8)\n",
      "Requirement already satisfied: jaxtyping>=0.2.20 in /usr/local/lib/python3.10/dist-packages (from haliax>=1.4.dev322) (0.2.34)\n",
      "Requirement already satisfied: jmp>=0.0.4 in /usr/local/lib/python3.10/dist-packages (from haliax>=1.4.dev322) (0.0.4)\n",
      "Requirement already satisfied: safetensors>=0.4.3 in /usr/local/lib/python3.10/dist-packages (from haliax>=1.4.dev322) (0.4.5)\n",
      "Requirement already satisfied: jax!=0.4.27,>=0.4.13 in /usr/local/lib/python3.10/dist-packages (from equinox) (0.4.35)\n",
      "Requirement already satisfied: typing-extensions>=4.5.0 in /usr/local/lib/python3.10/dist-packages (from equinox) (4.12.2)\n",
      "Requirement already satisfied: jaxlib<=0.4.35,>=0.4.34 in /usr/local/lib/python3.10/dist-packages (from jax!=0.4.27,>=0.4.13->equinox) (0.4.34)\n",
      "Requirement already satisfied: ml-dtypes>=0.4.0 in /usr/local/lib/python3.10/dist-packages (from jax!=0.4.27,>=0.4.13->equinox) (0.4.1)\n",
      "Requirement already satisfied: numpy>=1.24 in /usr/local/lib/python3.10/dist-packages (from jax!=0.4.27,>=0.4.13->equinox) (1.26.4)\n",
      "Requirement already satisfied: opt-einsum in /usr/local/lib/python3.10/dist-packages (from jax!=0.4.27,>=0.4.13->equinox) (3.4.0)\n",
      "Requirement already satisfied: scipy>=1.10 in /usr/local/lib/python3.10/dist-packages (from jax!=0.4.27,>=0.4.13->equinox) (1.13.1)\n",
      "Requirement already satisfied: typeguard==2.13.3 in /usr/local/lib/python3.10/dist-packages (from jaxtyping>=0.2.20->haliax>=1.4.dev322) (2.13.3)\n",
      "Requirement already satisfied: transformers in /usr/local/lib/python3.10/dist-packages (4.44.2)\n",
      "Collecting zstandard\n",
      "  Using cached zstandard-0.23.0-cp310-cp310-manylinux_2_17_x86_64.manylinux2014_x86_64.whl.metadata (3.0 kB)\n",
      "Collecting datasets\n",
      "  Downloading datasets-3.1.0-py3-none-any.whl.metadata (20 kB)\n",
      "Requirement already satisfied: filelock in /usr/local/lib/python3.10/dist-packages (from transformers) (3.16.1)\n",
      "Requirement already satisfied: huggingface-hub<1.0,>=0.23.2 in /usr/local/lib/python3.10/dist-packages (from transformers) (0.24.7)\n",
      "Requirement already satisfied: numpy>=1.17 in /usr/local/lib/python3.10/dist-packages (from transformers) (1.26.4)\n",
      "Requirement already satisfied: packaging>=20.0 in /usr/local/lib/python3.10/dist-packages (from transformers) (24.1)\n",
      "Requirement already satisfied: pyyaml>=5.1 in /usr/local/lib/python3.10/dist-packages (from transformers) (6.0.2)\n",
      "Requirement already satisfied: regex!=2019.12.17 in /usr/local/lib/python3.10/dist-packages (from transformers) (2024.9.11)\n",
      "Requirement already satisfied: requests in /usr/local/lib/python3.10/dist-packages (from transformers) (2.32.3)\n",
      "Requirement already satisfied: safetensors>=0.4.1 in /usr/local/lib/python3.10/dist-packages (from transformers) (0.4.5)\n",
      "Requirement already satisfied: tokenizers<0.20,>=0.19 in /usr/local/lib/python3.10/dist-packages (from transformers) (0.19.1)\n",
      "Requirement already satisfied: tqdm>=4.27 in /usr/local/lib/python3.10/dist-packages (from transformers) (4.66.6)\n",
      "Requirement already satisfied: pyarrow>=15.0.0 in /usr/local/lib/python3.10/dist-packages (from datasets) (17.0.0)\n",
      "Collecting dill<0.3.9,>=0.3.0 (from datasets)\n",
      "  Downloading dill-0.3.8-py3-none-any.whl.metadata (10 kB)\n",
      "Requirement already satisfied: pandas in /usr/local/lib/python3.10/dist-packages (from datasets) (2.2.2)\n",
      "Collecting xxhash (from datasets)\n",
      "  Downloading xxhash-3.5.0-cp310-cp310-manylinux_2_17_x86_64.manylinux2014_x86_64.whl.metadata (12 kB)\n",
      "Collecting multiprocess<0.70.17 (from datasets)\n",
      "  Downloading multiprocess-0.70.16-py310-none-any.whl.metadata (7.2 kB)\n",
      "Collecting fsspec<=2024.9.0,>=2023.1.0 (from fsspec[http]<=2024.9.0,>=2023.1.0->datasets)\n",
      "  Downloading fsspec-2024.9.0-py3-none-any.whl.metadata (11 kB)\n",
      "Requirement already satisfied: aiohttp in /usr/local/lib/python3.10/dist-packages (from datasets) (3.10.10)\n",
      "Requirement already satisfied: aiohappyeyeballs>=2.3.0 in /usr/local/lib/python3.10/dist-packages (from aiohttp->datasets) (2.4.3)\n",
      "Requirement already satisfied: aiosignal>=1.1.2 in /usr/local/lib/python3.10/dist-packages (from aiohttp->datasets) (1.3.1)\n",
      "Requirement already satisfied: attrs>=17.3.0 in /usr/local/lib/python3.10/dist-packages (from aiohttp->datasets) (24.2.0)\n",
      "Requirement already satisfied: frozenlist>=1.1.1 in /usr/local/lib/python3.10/dist-packages (from aiohttp->datasets) (1.5.0)\n",
      "Requirement already satisfied: multidict<7.0,>=4.5 in /usr/local/lib/python3.10/dist-packages (from aiohttp->datasets) (6.1.0)\n",
      "Requirement already satisfied: yarl<2.0,>=1.12.0 in /usr/local/lib/python3.10/dist-packages (from aiohttp->datasets) (1.17.1)\n",
      "Requirement already satisfied: async-timeout<5.0,>=4.0 in /usr/local/lib/python3.10/dist-packages (from aiohttp->datasets) (4.0.3)\n",
      "Requirement already satisfied: typing-extensions>=3.7.4.3 in /usr/local/lib/python3.10/dist-packages (from huggingface-hub<1.0,>=0.23.2->transformers) (4.12.2)\n",
      "Requirement already satisfied: charset-normalizer<4,>=2 in /usr/local/lib/python3.10/dist-packages (from requests->transformers) (3.4.0)\n",
      "Requirement already satisfied: idna<4,>=2.5 in /usr/local/lib/python3.10/dist-packages (from requests->transformers) (3.10)\n",
      "Requirement already satisfied: urllib3<3,>=1.21.1 in /usr/local/lib/python3.10/dist-packages (from requests->transformers) (2.2.3)\n",
      "Requirement already satisfied: certifi>=2017.4.17 in /usr/local/lib/python3.10/dist-packages (from requests->transformers) (2024.8.30)\n",
      "Requirement already satisfied: python-dateutil>=2.8.2 in /usr/local/lib/python3.10/dist-packages (from pandas->datasets) (2.8.2)\n",
      "Requirement already satisfied: pytz>=2020.1 in /usr/local/lib/python3.10/dist-packages (from pandas->datasets) (2024.2)\n",
      "Requirement already satisfied: tzdata>=2022.7 in /usr/local/lib/python3.10/dist-packages (from pandas->datasets) (2024.2)\n",
      "Requirement already satisfied: six>=1.5 in /usr/local/lib/python3.10/dist-packages (from python-dateutil>=2.8.2->pandas->datasets) (1.16.0)\n",
      "Requirement already satisfied: propcache>=0.2.0 in /usr/local/lib/python3.10/dist-packages (from yarl<2.0,>=1.12.0->aiohttp->datasets) (0.2.0)\n",
      "Downloading zstandard-0.23.0-cp310-cp310-manylinux_2_17_x86_64.manylinux2014_x86_64.whl (5.4 MB)\n",
      "\u001b[2K   \u001b[90m━━━━━━━━━━━━━━━━━━━━━━━━━━━━━━━━━━━━━━━━\u001b[0m \u001b[32m5.4/5.4 MB\u001b[0m \u001b[31m44.8 MB/s\u001b[0m eta \u001b[36m0:00:00\u001b[0m\n",
      "\u001b[?25hDownloading datasets-3.1.0-py3-none-any.whl (480 kB)\n",
      "\u001b[2K   \u001b[90m━━━━━━━━━━━━━━━━━━━━━━━━━━━━━━━━━━━━━━━━\u001b[0m \u001b[32m480.6/480.6 kB\u001b[0m \u001b[31m28.0 MB/s\u001b[0m eta \u001b[36m0:00:00\u001b[0m\n",
      "\u001b[?25hDownloading dill-0.3.8-py3-none-any.whl (116 kB)\n",
      "\u001b[2K   \u001b[90m━━━━━━━━━━━━━━━━━━━━━━━━━━━━━━━━━━━━━━━━\u001b[0m \u001b[32m116.3/116.3 kB\u001b[0m \u001b[31m8.8 MB/s\u001b[0m eta \u001b[36m0:00:00\u001b[0m\n",
      "\u001b[?25hDownloading fsspec-2024.9.0-py3-none-any.whl (179 kB)\n",
      "\u001b[2K   \u001b[90m━━━━━━━━━━━━━━━━━━━━━━━━━━━━━━━━━━━━━━━━\u001b[0m \u001b[32m179.3/179.3 kB\u001b[0m \u001b[31m12.8 MB/s\u001b[0m eta \u001b[36m0:00:00\u001b[0m\n",
      "\u001b[?25hDownloading multiprocess-0.70.16-py310-none-any.whl (134 kB)\n",
      "\u001b[2K   \u001b[90m━━━━━━━━━━━━━━━━━━━━━━━━━━━━━━━━━━━━━━━━\u001b[0m \u001b[32m134.8/134.8 kB\u001b[0m \u001b[31m8.5 MB/s\u001b[0m eta \u001b[36m0:00:00\u001b[0m\n",
      "\u001b[?25hDownloading xxhash-3.5.0-cp310-cp310-manylinux_2_17_x86_64.manylinux2014_x86_64.whl (194 kB)\n",
      "\u001b[2K   \u001b[90m━━━━━━━━━━━━━━━━━━━━━━━━━━━━━━━━━━━━━━━━\u001b[0m \u001b[32m194.1/194.1 kB\u001b[0m \u001b[31m13.4 MB/s\u001b[0m eta \u001b[36m0:00:00\u001b[0m\n",
      "\u001b[?25hInstalling collected packages: zstandard, xxhash, fsspec, dill, multiprocess, datasets\n",
      "  Attempting uninstall: fsspec\n",
      "    Found existing installation: fsspec 2024.10.0\n",
      "    Uninstalling fsspec-2024.10.0:\n",
      "      Successfully uninstalled fsspec-2024.10.0\n",
      "\u001b[31mERROR: pip's dependency resolver does not currently take into account all the packages that are installed. This behaviour is the source of the following dependency conflicts.\n",
      "gcsfs 2024.10.0 requires fsspec==2024.10.0, but you have fsspec 2024.9.0 which is incompatible.\u001b[0m\u001b[31m\n",
      "\u001b[0mSuccessfully installed datasets-3.1.0 dill-0.3.8 fsspec-2024.9.0 multiprocess-0.70.16 xxhash-3.5.0 zstandard-0.23.0\n"
     ]
    }
   ],
   "source": [
    "!pip install -U jax[cuda12]\n",
    "!pip install -U \"haliax>=1.4.dev322\" equinox\n",
    "# We use HF in this tutorial for tokenizers and data loading\n",
    "!pip install transformers zstandard datasets"
   ]
  },
  {
   "cell_type": "markdown",
   "metadata": {},
   "source": [
    "## Environment Variable Hacking for Colab\n",
    "\n",
    "\n",
    "(You can skip this part as well.)\n",
    "\n",
    "Next up, we're going to detect if we're using a CPU, TPU, or GPU backend. If CPU, we're going to tell XLA to pretend it has 8 devices. If we're using CPU (or single GPU), nothing we do in this tutorial will actually make anything faster or save any memory. But, without emulating multiple devices, this tutorial won't make much sense.\n"
   ]
  },
  {
   "cell_type": "code",
   "execution_count": null,
   "metadata": {},
   "outputs": [
    {
     "name": "stdout",
     "output_type": "stream",
     "text": [
      "Forcing 8 devices for cpu backend\n"
     ]
    }
   ],
   "source": [
    "import os\n",
    "from google.colab._serverextension._resource_monitor import get_gpu_stats\n",
    "\n",
    "\n",
    "tpu_addr = os.environ.get('COLAB_TPU_ADDR', '')\n",
    "if tpu_addr:\n",
    "  _backend = \"tpu\"\n",
    "elif len(get_gpu_stats()) > 0:\n",
    "  _backend = \"gpu\"\n",
    "else:\n",
    "  _backend = \"cpu\"\n",
    "\n",
    "if _backend == \"cpu\":\n",
    "  print(\"Forcing 8 devices for cpu backend\")\n",
    "  os.environ[\"XLA_FLAGS\"] = f\"{os.environ.get('XLA_FLAGS', '')} --xla_force_host_platform_device_count=8\"\n",
    "\n",
    "del _backend, tpu_addr"
   ]
  },
  {
   "cell_type": "code",
   "execution_count": null,
   "metadata": {},
   "outputs": [
    {
     "name": "stdout",
     "output_type": "stream",
     "text": [
      "Using 8 devices\n"
     ]
    }
   ],
   "source": [
    "import jax\n",
    "print(f\"Using {len(jax.devices())} devices\")"
   ]
  },
  {
   "cell_type": "markdown",
   "metadata": {},
   "source": [
    "# The Model\n",
    "\n",
    "Next, we're going to reproduce the model code, including the named axes, etc. from the original tutorial."
   ]
  },
  {
   "cell_type": "code",
   "execution_count": null,
   "metadata": {},
   "outputs": [
    {
     "name": "stderr",
     "output_type": "stream",
     "text": [
      "/usr/local/lib/python3.10/dist-packages/transformers/tokenization_utils_base.py:1601: FutureWarning: `clean_up_tokenization_spaces` was not set. It will be set to `True` by default. This behavior will be depracted in transformers v4.45, and will be then set to `False` by default. For more details check this issue: https://github.com/huggingface/transformers/issues/31884\n",
      "  warnings.warn(\n"
     ]
    }
   ],
   "source": [
    "import equinox as eqx\n",
    "import haliax as hax\n",
    "import haliax.nn as hnn\n",
    "import jax\n",
    "import jax.numpy as jnp\n",
    "\n",
    "from transformers import AutoTokenizer\n",
    "\n",
    "tokenizer = AutoTokenizer.from_pretrained(\"gpt2\")\n",
    "\n",
    "Layer = hax.Axis(\"layer\", 4)\n",
    "Head = hax.Axis(\"head\", 8)\n",
    "Key = hax.Axis(\"key\", 16)\n",
    "Embed = hax.Axis(\"embed\", 32)\n",
    "Mlp = hax.Axis(\"mlp\", Embed.size * 4)\n",
    "\n",
    "Batch = hax.Axis(\"batch\", 8)\n",
    "Pos = hax.Axis(\"position\", 128)  # how long each sequence is\n",
    "KPos = Pos.alias(\"key_position\")\n",
    "Vocab = hax.Axis(\"vocab\", len(tokenizer))\n",
    "\n",
    "\n",
    "class FeedForward(eqx.Module):\n",
    "  # fields must be declared in Equinox\n",
    "  proj_up: hnn.Linear\n",
    "  proj_down: hnn.Linear\n",
    "\n",
    "  @staticmethod\n",
    "  def init(Embed, Intermediate, *, key):\n",
    "    k_up, k_down = jax.random.split(key, 2)\n",
    "    proj_up = hnn.Linear.init(Out=Intermediate, In=Embed, key=k_up)\n",
    "    proj_down = hnn.Linear.init(Out=Embed, In=Intermediate, key=k_down)\n",
    "    return FeedForward(proj_up, proj_down)\n",
    "\n",
    "  def __call__(self, x):\n",
    "    x = self.proj_up(x)\n",
    "    x = hnn.gelu(x)\n",
    "    return self.proj_down(x)\n",
    "\n",
    "\n",
    "causal_mask = hax.arange(Pos) >= hax.arange(KPos).broadcast_axis(Pos)\n",
    "\n",
    "\n",
    "def attention_scores(Key, KPos, query, key):\n",
    "  # how similar is each query to each key\n",
    "  scores = hax.dot(Key, query, key) / jnp.sqrt(Key.size)\n",
    "\n",
    "  scores -= 1E9 * (1.0 - causal_mask)\n",
    "\n",
    "  # convert to probabilities\n",
    "  scores = hax.nn.softmax(scores, KPos)\n",
    "  return scores\n",
    "\n",
    "\n",
    "def attention(Key, KPos, query, key, value):\n",
    "  scores = attention_scores(Key, KPos, query, key)\n",
    "  answers = hax.dot(KPos, scores, value)\n",
    "\n",
    "  return answers\n",
    "\n",
    "\n",
    "class Attention(eqx.Module):\n",
    "  proj_qkv: hnn.Linear  # input projection from [Embed] -> [(q, k, v), Head, Key]\n",
    "  proj_answer: hnn.Linear  # output projection from [Head, Key] -> [Embed]\n",
    "\n",
    "  @staticmethod\n",
    "  def init(Embed, Head, Key, *, key):\n",
    "    Qkv = hax.Axis(\"qkv\", 3)  # create all three at once\n",
    "\n",
    "    k_qkv, k_ans = jax.random.split(key, 2)\n",
    "    proj_qkv = hnn.Linear.init(In=Embed, Out=(Qkv, Head, Key), key=k_qkv)\n",
    "    proj_answer = hnn.Linear.init(In=(Head, Key), Out=Embed, key=k_ans)\n",
    "    return Attention(proj_qkv, proj_answer)\n",
    "\n",
    "  def __call__(self, x):\n",
    "    qkv_out = self.proj_qkv(x)\n",
    "    q, k, v = qkv_out.unbind(\"qkv\")\n",
    "\n",
    "    # Rename k and v's Pos as haliax doesn't support unnamed axes or duplicate axes\n",
    "    k = k.rename({\"position\": \"key_position\"})\n",
    "    v = v.rename({\"position\": \"key_position\"})\n",
    "\n",
    "    answers = attention(Key, KPos, q, k, v)\n",
    "\n",
    "    x = self.proj_answer(answers)\n",
    "    return x\n",
    "\n",
    "\n",
    "class Block(eqx.Module):\n",
    "  ffn: FeedForward\n",
    "  attention: Attention\n",
    "  ln1: hnn.LayerNorm\n",
    "  ln2: hnn.LayerNorm\n",
    "\n",
    "  @staticmethod\n",
    "  def init(key):\n",
    "    k_ff, k_attn = jax.random.split(key, 2)\n",
    "    ffn = FeedForward.init(Embed, Mlp, key=k_ff)\n",
    "    attention = Attention.init(Embed, Head, Key, key=k_attn)\n",
    "    ln1 = hnn.LayerNorm.init(Embed)\n",
    "    ln2 = hnn.LayerNorm.init(Embed)\n",
    "    return Block(ffn, attention, ln1, ln2)\n",
    "\n",
    "\n",
    "  def __call__(self, x):\n",
    "    x = x + self.ffn(self.ln1(x))\n",
    "    x = x + self.attention(self.ln2(x))\n",
    "    return x\n",
    "\n",
    "\n",
    "class Transformer(eqx.Module):\n",
    "  blocks: hnn.Stacked[Block]\n",
    "  ln_f: hnn.LayerNorm\n",
    "\n",
    "  @staticmethod\n",
    "  def init(key):\n",
    "    # vectorize the blocks\n",
    "    blocks = hnn.Stacked.init(\n",
    "       Layer, # The first argument is an Axis for how many layers we want in our Stacked\n",
    "       Block,\n",
    "       gradient_checkpointing=True,  # important for TPU with comparatively limited memory\n",
    "    )( key=jax.random.split(key, Layer.size))\n",
    "    ln_f = hnn.LayerNorm.init(Embed)\n",
    "    return Transformer(blocks, ln_f)\n",
    "\n",
    "  def __call__(self, x):\n",
    "    x = self.blocks.fold(x)\n",
    "    x = self.ln_f(x)\n",
    "    return x\n",
    "\n",
    "\n",
    "class Embeddings(eqx.Module):\n",
    "  token_embeddings: hnn.Embedding\n",
    "  position_embeddings: hnn.Embedding\n",
    "\n",
    "  @staticmethod\n",
    "  def init(key):\n",
    "    k_wte, k_wpe = jax.random.split(key, 2)\n",
    "\n",
    "    token_embeddings = hnn.Embedding.init(Vocab, Embed, key=k_wte)\n",
    "    position_embeddings = hnn.Embedding.init(Pos, Embed, key=k_wpe)\n",
    "    return Embeddings(token_embeddings, position_embeddings)\n",
    "\n",
    "  def embed(self, input_ids):\n",
    "    input_embeds = self.token_embeddings.embed(input_ids)\n",
    "    position_embeds = self.position_embeddings.embed(hax.arange(Pos))\n",
    "\n",
    "    return input_embeds + position_embeds\n",
    "\n",
    "  def unembed(self, x):\n",
    "    return self.token_embeddings.unembed(x)\n",
    "\n",
    "\n",
    "class TransformerLm(eqx.Module):\n",
    "  transformer: Transformer\n",
    "  embeddings: Embeddings\n",
    "\n",
    "  @staticmethod\n",
    "  def init(key):\n",
    "    k_t, k_embeddings = jax.random.split(key, 2)\n",
    "    transformer = Transformer.init(key=k_t)\n",
    "    embeddings = Embeddings.init(key=k_embeddings)\n",
    "    return TransformerLm(transformer, embeddings)\n",
    "\n",
    "  def __call__(self, input_ids):\n",
    "    x = self.embeddings.embed(input_ids)\n",
    "    x = self.transformer(x)\n",
    "    lm_logits = self.embeddings.unembed(x)\n",
    "\n",
    "    return lm_logits"
   ]
  },
  {
   "cell_type": "markdown",
   "metadata": {},
   "source": [
    "# The Original Training Harness\n",
    "\n",
    "Here's our original simple training harness. As in the last tutorial, it has no bells and whistles for logging or anything like that. First, here's the data loader code. This data loader code is deliberately not that fancy or even good, but it is compact."
   ]
  },
  {
   "cell_type": "code",
   "execution_count": null,
   "metadata": {},
   "outputs": [],
   "source": [
    "import datasets\n",
    "\n",
    "tokenizer.pad_token = \"<pad>\"\n",
    "\n",
    "wikitext = datasets.load_dataset(\"dlwh/wikitext_103_detokenized\", split=\"train\", streaming=True)\n",
    "\n",
    "def data_loop():\n",
    "  batch = []\n",
    "  for ex in wikitext:\n",
    "    ids = tokenizer(ex[\"text\"], padding=True, pad_to_multiple_of=Pos.size, return_tensors=\"np\")\n",
    "    ids = ids['input_ids'][0, 0:Pos.size]\n",
    "    batch.append(ids)\n",
    "    if len(batch) == Batch.size:\n",
    "      batched_samples = hax.named(jnp.stack(batch), (Batch, Pos))\n",
    "      yield batched_samples\n",
    "      batch = []\n",
    "\n",
    "  if len(batch) > 0:\n",
    "    # make sure we have enough for our batch\n",
    "    batch += [jnp.full(Pos.size, tokenizer.pad_token_id, dtype=jnp.int32)] * (Batch.size - len(batch))\n",
    "    batched_samples = hax.named(jnp.stack(batch), (Batch, Pos))\n",
    "    yield batched_samples\n"
   ]
  },
  {
   "cell_type": "markdown",
   "metadata": {},
   "source": [
    "Next up, here's the loss function and model update function."
   ]
  },
  {
   "cell_type": "code",
   "execution_count": null,
   "metadata": {},
   "outputs": [],
   "source": [
    "# initialization\n",
    "NUM_STEPS=100\n",
    "model_key = jax.random.PRNGKey(0)\n",
    "\n",
    "# we're going to use optax for the optimizer\n",
    "import optax\n",
    "optimizer = optax.adamw(1E-4, weight_decay=0.1)\n",
    "\n",
    "\n",
    "def next_token_loss(pred_ids, true_ids):\n",
    "  # need to roll the target tokens back by one so that each token is predicting the next token\n",
    "  target_y = hax.roll(true_ids, -1, Pos)\n",
    "  target_y = hnn.one_hot(target_y, Vocab)\n",
    "\n",
    "  # we want to predict for each token except the last token (because we don't know whatit is)\n",
    "  loss_mask = 1 - hnn.one_hot(-1, Pos, dtype=jnp.float32)\n",
    "\n",
    "  loss = hnn.cross_entropy_loss(pred_ids, Vocab, target_y, where=loss_mask)\n",
    "\n",
    "  return loss\n",
    "\n",
    "\n",
    "def compute_loss(model, input_ids):\n",
    "  pred_y = model(input_ids)\n",
    "  loss = next_token_loss(pred_y, input_ids)\n",
    "  # we have to return somethin that Jax recognizes as a scalar, which means a 0-dimensional array,\n",
    "  # and not a named array\n",
    "  return loss.scalar()"
   ]
  },
  {
   "cell_type": "markdown",
   "metadata": {},
   "source": [
    "Next, we're going to use the same training loop we used for FSDP, except we'll modify it to accept axis mappings (rather than capturing global variables):"
   ]
  },
  {
   "cell_type": "code",
   "execution_count": null,
   "metadata": {},
   "outputs": [],
   "source": [
    "@hax.named_jit\n",
    "def init_model(axis_mapping):\n",
    "  model = TransformerLm.init(key=model_key)\n",
    "  return hax.shard_with_axis_mapping(model, axis_mapping)\n",
    "\n",
    "import optax\n",
    "optimizer = optax.adamw(1E-4, weight_decay=0.1)\n",
    "\n",
    "# NEW\n",
    "@hax.named_jit\n",
    "def init_optimizer(model, param_axis_mapping):\n",
    "  opt_state = optimizer.init(model)\n",
    "  return hax.shard_with_axis_mapping(opt_state, param_axis_mapping)\n",
    "\n",
    "@hax.named_jit\n",
    "def train_step(model, opt_state, input_ids, compute_axis_mapping):\n",
    "  grad_loss = eqx.filter_value_and_grad(compute_loss)\n",
    "\n",
    "  with hax.axis_mapping(compute_axis_mapping):\n",
    "    loss, grads = grad_loss(model, input_ids)\n",
    "\n",
    "  updates, opt_state = optimizer.update(grads, opt_state, params=model)\n",
    "  model = eqx.apply_updates(model, updates)\n",
    "\n",
    "  return loss, model, opt_state\n",
    "\n",
    "def training_loop(mesh, param_axis_mapping, compute_axis_mapping):\n",
    "  with mesh:\n",
    "    model = init_model(param_axis_mapping)\n",
    "    import tqdm\n",
    "    range_pbar = tqdm.tqdm(range(NUM_STEPS), desc=\"Training\")\n",
    "\n",
    "    opt_state = init_optimizer(model, param_axis_mapping)\n",
    "    data_iter = data_loop()\n",
    "\n",
    "    for i in range_pbar:\n",
    "      input_ids = next(data_iter)\n",
    "      input_ids = hax.shard_with_axis_mapping(input_ids, compute_axis_mapping)\n",
    "      loss, model, opt_state = train_step(model, opt_state, input_ids, compute_axis_mapping)\n",
    "\n",
    "      range_pbar.set_postfix(loss=loss.item())\n",
    "\n",
    "      if i % 50 == 0:\n",
    "        print(loss)\n",
    "\n",
    "  return model"
   ]
  },
  {
   "cell_type": "markdown",
   "metadata": {},
   "source": [
    "As a final step, we'll copy over the utilities we created for looking at device meshes:"
   ]
  },
  {
   "cell_type": "code",
   "execution_count": null,
   "metadata": {},
   "outputs": [],
   "source": [
    "from jax.sharding import Mesh, NamedSharding, PartitionSpec\n",
    "import numpy as onp\n",
    "\n",
    "# quick little utility to visualize meshes themselves\n",
    "# this piggybacks on a nice visualization in Jax.\n",
    "def visualize_mesh(mesh):\n",
    "  arr = jnp.zeros(mesh.devices.shape)\n",
    "  arr = jax.device_put(arr, NamedSharding(mesh, PartitionSpec(*mesh.axis_names)))\n",
    "  jax.debug.visualize_array_sharding(arr)"
   ]
  },
  {
   "cell_type": "markdown",
   "metadata": {},
   "source": [
    "## Review: Sharding Data\n",
    "\n",
    "Recall that the basic way we use a mesh is by mapping axes of our array to axes of the mesh. With that mapping in place, Jax will automatically distribute the array (and computations involving that array) across the mesh. Thus, to enable data parallelism, we just need to map our `Batch` axis of our `input_ids` array along the `\"data\"` axis of the mesh. Schematically, that looks like this:\n",
    "![mesh showing `Batch` axis mapped to data axis](https://github.com/stanford-crfm/levanter/blob/main/docs/figures/data_parallel_mesh.png?raw=true)\n",
    "\n",
    "In Haliax, we use a `dict` that we refer to as an **axis mapping** to handle this kind of assignment. Here's our data parallel axis mapping:"
   ]
  },
  {
   "cell_type": "code",
   "execution_count": null,
   "metadata": {},
   "outputs": [],
   "source": [
    "dp_axis_mapping = {\"batch\": \"data\"}"
   ]
  },
  {
   "cell_type": "markdown",
   "metadata": {},
   "source": [
    "We did FSDP by specifying another axis mapping, this one for storing parameters and optimizer states:"
   ]
  },
  {
   "cell_type": "code",
   "execution_count": null,
   "metadata": {},
   "outputs": [],
   "source": [
    "fsdp_axis_mapping = {\"embed\": \"data\"}"
   ]
  },
  {
   "cell_type": "markdown",
   "metadata": {},
   "source": [
    "# TL;DR: Tensor Parallelism in 5 lines of code\n",
    "\n",
    "The TL;DR for this tutorial is that we'll do this for tensor parallelism:"
   ]
  },
  {
   "cell_type": "code",
   "execution_count": null,
   "metadata": {},
   "outputs": [],
   "source": [
    "model_parallelism = 2\n",
    "mp_mesh = Mesh(onp.array(jax.devices()).reshape(-1, model_parallelism), (\"data\", \"model\"))\n",
    "\n",
    "tp_axis_mapping = {\"mlp\": \"model\", \"head\": \"model\"}\n",
    "compute_axis_mapping = {**dp_axis_mapping, **tp_axis_mapping}\n",
    "param_axis_mapping = {**fsdp_axis_mapping, **tp_axis_mapping}"
   ]
  },
  {
   "cell_type": "markdown",
   "metadata": {},
   "source": [
    "The rest of the tutorial is why these are the right five lines of code."
   ]
  },
  {
   "cell_type": "markdown",
   "metadata": {},
   "source": [
    "# Tensor Parallelism\n",
    "\n",
    "So far, we've looked at \"plain old\" data parallelism as well as FSDP. Both of these methods are basically the same, in that they fundamentally process one or more examples on a device at a time; you're not asking multiple devices to split up inference across more than one device at a time.\n",
    "\n",
    "However, we can use multiple devices to process an example at a time, using so-called **model parallelism**. There are two kinds of model parallelism that people typically use. One is called Tensor Parallelism(TP) and the other called is Pipeline Parallelism (PP). (Hugging Face has a [good overview here](https://huggingface.co/transformers/v4.9.0/parallelism.html).)\n",
    "\n",
    "Pipeline Parallelism is much more complex (and not currently implemented in Haliax), while Tensor Parallelism is actually quite straightforward, as you saw if looked at the TL;DR.\n",
    "\n",
    "**Before continuing**, we emphasize that, in our experiments so far, TP provides no benefits on TPU for training up to at least 20B parameters. TP should provide benefits for decoding/serving, but right now we're focused on training.\n",
    "\n",
    "## Tensor Parallelism, Conceptually\n",
    "\n",
    "To get started, let's think about what we're trying to accomplish. We want to divide our computation so that we only do part (ideally $1/D$th, where $D$ is the number of devices) of the work on each device, communicating only what we have to.\n",
    "\n",
    "The main work of a Transformer is made up of a bunch of matrix multiplications: the MLP has two matrix multiplications (`Embed -> Mlp`, `Mlp -> Embed`), and the attention block has both the projections (`Embed -> [Head, QKV, Key]`, `[Head, Key] -> Embed`) and the attention computation itself (which, recall, produces a tensor of shape `[Head, Pos, KeyPos]`).\n",
    "\n",
    "The basic idea is we're going to turn each of those matrix multiplications into distributed matrix multiplies.\n",
    "\n",
    "### Tensor Parallelism for an MLP, Conceptually\n",
    "\n",
    "(This is the \"hard way\" to get to the eventual 3 lines of code, but I find it helpful.)\n",
    "\n",
    "For instance, let's think about about our `FeedForward` module, which we'll reproduce here:\n",
    "\n",
    "```python\n",
    "class FeedForward(eqx.Module):\n",
    "  proj_up: hnn.Linear\n",
    "  proj_down: hnn.Linear\n",
    "\n",
    "  @staticmethod\n",
    "  def init(Embed, Intermediate, *, key):\n",
    "    k_up, k_down = jax.random.split(key, 2)\n",
    "    proj_up = hnn.Linear.init(Out=Intermediate, In=Embed, key=k_up)\n",
    "    proj_down = hnn.Linear.init(Out=Embed, In=Intermediate, key=k_down)\n",
    "    return FeedForward(proj_up, proj_down)\n",
    "\n",
    "  def __call__(self, x):\n",
    "    x = self.proj_up(x)\n",
    "    x = hnn.gelu(x)\n",
    "    return self.proj_down(x)\n",
    "```\n",
    "\n",
    "What we'd like to do, conceptually, is do something like:\n",
    "\n",
    "1. change `proj_up` so that each device computes only `Intermediate.size/D` of the entries.\n",
    "2. compute `gelu` on just those entries\n",
    "3. change `proj_down` so that each device computes a (per-position) vector of size `Embed` and then combine the results into a single `Embed` vector.\n",
    "\n",
    "Naïvely, this might look something like:\n",
    "\n",
    "```python\n",
    "########################\n",
    "# NOT REAL HALIAX CODE #\n",
    "########################\n",
    "class TensorParallelFeedForward(eqx.Module):\n",
    "  proj_up: hnn.Linear\n",
    "  proj_down: hnn.Linear\n",
    "\n",
    "  @staticmethod\n",
    "  def init(Embed, Intermediate, *, key):\n",
    "\n",
    "    k_up, k_down = jax.random.split(key, 2)\n",
    "    # NEW\n",
    "    LocalIntermdiate = Axis(\"local_intermediate\", Intermediate.size/NUM_DEVICES)\n",
    "    proj_up = hnn.Linear.init(Out=LocalIntermediate, In=Embed, key=k_up)\n",
    "    proj_down = hnn.Linear.init(Out=Embed, In=LocalIntermediate, key=k_down)\n",
    "\n",
    "    return FeedForward(proj_up, proj_down)\n",
    "\n",
    "  def __call__(self, x):\n",
    "    # this is the same, just renamed a bit\n",
    "    local_x = self.proj_up(x)\n",
    "    local_x = hnn.gelu(local_x)\n",
    "    local_x = self.proj_down(local_x)\n",
    "    # NEW\n",
    "    x = distributed_add(local_x)\n",
    "    return x\n",
    "```\n",
    "\n",
    "Note, `distributed_add` isn't a real function. People who used JAX some time ago might recognize `distributed_add` as `psum`, and indeed, it basically is. People who have written tensor parallel PyTorch might recognize the last two bit of `__call__` as [`ColumnParallelLinear`](https://github.com/facebookresearch/metaseq/blob/main/metaseq/modules/megatron/mpu/layers.py#L386) and the first couple of lines as `RowParallelLinear`.\n",
    "\n",
    "Conceptually, this is exactly what we want (for `FeedForward`), but the way we get it in Haliax is even easier.\n",
    "\n",
    "## Tensor Parallelism with Haliax and Mesh Parallelism\n",
    "\n",
    "Here's the actual `FeedForward` code we'll be using:\n",
    "\n",
    "```python\n",
    "class FeedForward(eqx.Module):\n",
    "  proj_up: hnn.Linear\n",
    "  proj_down: hnn.Linear\n",
    "\n",
    "  @staticmethod\n",
    "  def init(Embed, Intermediate, *, key):\n",
    "    k_up, k_down = jax.random.split(key, 2)\n",
    "    proj_up = hnn.Linear.init(Out=Intermediate, In=Embed, key=k_up)\n",
    "    proj_down = hnn.Linear.init(Out=Embed, In=Intermediate, key=k_down)\n",
    "    return FeedForward(proj_up, proj_down)\n",
    "\n",
    "  def __call__(self, x):\n",
    "    x = self.proj_up(x)\n",
    "    x = hnn.gelu(x)\n",
    "    return self.proj_down(x)\n",
    "```\n",
    "\n",
    "This is in fact exactly the feed forward code we started with, with no changes at all.\n",
    "\n",
    "So how do we get model parallelism? Instead, what we're going to do is tell Haliax (and for it to tell JAX) to partition the `Intermediate`/`Mlp` axis, in the exact same way we told it to partition the `Batch`) axis. The only difference is that we're going to need to change our `Mesh` to have *two* axes instead of *one*. One called `\"data\"` and the other called `\"model\"` (for \"model parallelism\"). Once we partition our model's parameters correctly, JAX/XLA will take care of the distributed communication, just as it did with FSDP."
   ]
  },
  {
   "cell_type": "markdown",
   "metadata": {},
   "source": [
    "![device_mesh_2d(1).png](data:image/png;base64,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)"
   ]
  },
  {
   "cell_type": "code",
   "execution_count": null,
   "metadata": {},
   "outputs": [
    {
     "data": {
      "text/html": [
       "<pre style=\"white-space:pre;overflow-x:auto;line-height:normal;font-family:Menlo,'DejaVu Sans Mono',consolas,'Courier New',monospace\"><span style=\"color: #ffffff; text-decoration-color: #ffffff; background-color: #393b79\">         </span><span style=\"color: #ffffff; text-decoration-color: #ffffff; background-color: #d6616b\">         </span>\n",
       "<span style=\"color: #ffffff; text-decoration-color: #ffffff; background-color: #393b79\">  CPU 0  </span><span style=\"color: #ffffff; text-decoration-color: #ffffff; background-color: #d6616b\">  CPU 1  </span>\n",
       "<span style=\"color: #ffffff; text-decoration-color: #ffffff; background-color: #393b79\">         </span><span style=\"color: #ffffff; text-decoration-color: #ffffff; background-color: #d6616b\">         </span>\n",
       "<span style=\"color: #ffffff; text-decoration-color: #ffffff; background-color: #8ca252\">         </span><span style=\"color: #ffffff; text-decoration-color: #ffffff; background-color: #de9ed6\">         </span>\n",
       "<span style=\"color: #ffffff; text-decoration-color: #ffffff; background-color: #8ca252\">  CPU 2  </span><span style=\"color: #ffffff; text-decoration-color: #ffffff; background-color: #de9ed6\">  CPU 3  </span>\n",
       "<span style=\"color: #ffffff; text-decoration-color: #ffffff; background-color: #8ca252\">         </span><span style=\"color: #ffffff; text-decoration-color: #ffffff; background-color: #de9ed6\">         </span>\n",
       "<span style=\"color: #000000; text-decoration-color: #000000; background-color: #e7cb94\">         </span><span style=\"color: #ffffff; text-decoration-color: #ffffff; background-color: #6b6ecf\">         </span>\n",
       "<span style=\"color: #000000; text-decoration-color: #000000; background-color: #e7cb94\">  CPU 4  </span><span style=\"color: #ffffff; text-decoration-color: #ffffff; background-color: #6b6ecf\">  CPU 5  </span>\n",
       "<span style=\"color: #000000; text-decoration-color: #000000; background-color: #e7cb94\">         </span><span style=\"color: #ffffff; text-decoration-color: #ffffff; background-color: #6b6ecf\">         </span>\n",
       "<span style=\"color: #ffffff; text-decoration-color: #ffffff; background-color: #a55194\">         </span><span style=\"color: #ffffff; text-decoration-color: #ffffff; background-color: #8c6d31\">         </span>\n",
       "<span style=\"color: #ffffff; text-decoration-color: #ffffff; background-color: #a55194\">  CPU 6  </span><span style=\"color: #ffffff; text-decoration-color: #ffffff; background-color: #8c6d31\">  CPU 7  </span>\n",
       "<span style=\"color: #ffffff; text-decoration-color: #ffffff; background-color: #a55194\">         </span><span style=\"color: #ffffff; text-decoration-color: #ffffff; background-color: #8c6d31\">         </span>\n",
       "</pre>\n"
      ],
      "text/plain": [
       "\u001b[38;2;255;255;255;48;2;57;59;121m         \u001b[0m\u001b[38;2;255;255;255;48;2;214;97;107m         \u001b[0m\n",
       "\u001b[38;2;255;255;255;48;2;57;59;121m  \u001b[0m\u001b[38;2;255;255;255;48;2;57;59;121mCPU 0\u001b[0m\u001b[38;2;255;255;255;48;2;57;59;121m  \u001b[0m\u001b[38;2;255;255;255;48;2;214;97;107m  \u001b[0m\u001b[38;2;255;255;255;48;2;214;97;107mCPU 1\u001b[0m\u001b[38;2;255;255;255;48;2;214;97;107m  \u001b[0m\n",
       "\u001b[38;2;255;255;255;48;2;57;59;121m         \u001b[0m\u001b[38;2;255;255;255;48;2;214;97;107m         \u001b[0m\n",
       "\u001b[38;2;255;255;255;48;2;140;162;82m         \u001b[0m\u001b[38;2;255;255;255;48;2;222;158;214m         \u001b[0m\n",
       "\u001b[38;2;255;255;255;48;2;140;162;82m  \u001b[0m\u001b[38;2;255;255;255;48;2;140;162;82mCPU 2\u001b[0m\u001b[38;2;255;255;255;48;2;140;162;82m  \u001b[0m\u001b[38;2;255;255;255;48;2;222;158;214m  \u001b[0m\u001b[38;2;255;255;255;48;2;222;158;214mCPU 3\u001b[0m\u001b[38;2;255;255;255;48;2;222;158;214m  \u001b[0m\n",
       "\u001b[38;2;255;255;255;48;2;140;162;82m         \u001b[0m\u001b[38;2;255;255;255;48;2;222;158;214m         \u001b[0m\n",
       "\u001b[38;2;0;0;0;48;2;231;203;148m         \u001b[0m\u001b[38;2;255;255;255;48;2;107;110;207m         \u001b[0m\n",
       "\u001b[38;2;0;0;0;48;2;231;203;148m  \u001b[0m\u001b[38;2;0;0;0;48;2;231;203;148mCPU 4\u001b[0m\u001b[38;2;0;0;0;48;2;231;203;148m  \u001b[0m\u001b[38;2;255;255;255;48;2;107;110;207m  \u001b[0m\u001b[38;2;255;255;255;48;2;107;110;207mCPU 5\u001b[0m\u001b[38;2;255;255;255;48;2;107;110;207m  \u001b[0m\n",
       "\u001b[38;2;0;0;0;48;2;231;203;148m         \u001b[0m\u001b[38;2;255;255;255;48;2;107;110;207m         \u001b[0m\n",
       "\u001b[38;2;255;255;255;48;2;165;81;148m         \u001b[0m\u001b[38;2;255;255;255;48;2;140;109;49m         \u001b[0m\n",
       "\u001b[38;2;255;255;255;48;2;165;81;148m  \u001b[0m\u001b[38;2;255;255;255;48;2;165;81;148mCPU 6\u001b[0m\u001b[38;2;255;255;255;48;2;165;81;148m  \u001b[0m\u001b[38;2;255;255;255;48;2;140;109;49m  \u001b[0m\u001b[38;2;255;255;255;48;2;140;109;49mCPU 7\u001b[0m\u001b[38;2;255;255;255;48;2;140;109;49m  \u001b[0m\n",
       "\u001b[38;2;255;255;255;48;2;165;81;148m         \u001b[0m\u001b[38;2;255;255;255;48;2;140;109;49m         \u001b[0m\n"
      ]
     },
     "metadata": {},
     "output_type": "display_data"
    }
   ],
   "source": [
    "model_parallelism = 2\n",
    "mp_mesh = Mesh(onp.array(jax.devices()).reshape(-1, model_parallelism), (\"data\", \"model\"))\n",
    "\n",
    "# in the Jax visualization, rows will be \"data\" and columns \"model\"\n",
    "visualize_mesh(mp_mesh)"
   ]
  },
  {
   "cell_type": "markdown",
   "metadata": {},
   "source": [
    "Next, we'll tell Haliax to map the `Mlp` axis to the `model` axis:"
   ]
  },
  {
   "cell_type": "code",
   "execution_count": null,
   "metadata": {},
   "outputs": [],
   "source": [
    "compute_axis_mapping = {\"batch\": \"data\", \"mlp\": \"model\"}\n",
    "param_axis_mapping = {\"embed\": \"data\", \"mlp\": \"model\"}"
   ]
  },
  {
   "cell_type": "markdown",
   "metadata": {},
   "source": [
    "Now let's try our simple `FeedForward` after partitioning it:"
   ]
  },
  {
   "cell_type": "code",
   "execution_count": null,
   "metadata": {},
   "outputs": [
    {
     "name": "stdout",
     "output_type": "stream",
     "text": [
      "input array sharding\n"
     ]
    },
    {
     "data": {
      "text/html": [
       "<pre style=\"white-space:pre;overflow-x:auto;line-height:normal;font-family:Menlo,'DejaVu Sans Mono',consolas,'Courier New',monospace\"><span style=\"color: #ffffff; text-decoration-color: #ffffff; background-color: #393b79\">                                                                                </span>\n",
       "<span style=\"color: #ffffff; text-decoration-color: #ffffff; background-color: #393b79\">                                    CPU 0,1                                     </span>\n",
       "<span style=\"color: #ffffff; text-decoration-color: #ffffff; background-color: #393b79\">                                                                                </span>\n",
       "<span style=\"color: #ffffff; text-decoration-color: #ffffff; background-color: #de9ed6\">                                                                                </span>\n",
       "<span style=\"color: #ffffff; text-decoration-color: #ffffff; background-color: #de9ed6\">                                    CPU 2,3                                     </span>\n",
       "<span style=\"color: #ffffff; text-decoration-color: #ffffff; background-color: #de9ed6\">                                                                                </span>\n",
       "<span style=\"color: #ffffff; text-decoration-color: #ffffff; background-color: #ad494a\">                                                                                </span>\n",
       "<span style=\"color: #ffffff; text-decoration-color: #ffffff; background-color: #ad494a\">                                    CPU 4,5                                     </span>\n",
       "<span style=\"color: #ffffff; text-decoration-color: #ffffff; background-color: #ad494a\">                                                                                </span>\n",
       "<span style=\"color: #000000; text-decoration-color: #000000; background-color: #b5cf6b\">                                                                                </span>\n",
       "<span style=\"color: #000000; text-decoration-color: #000000; background-color: #b5cf6b\">                                    CPU 6,7                                     </span>\n",
       "<span style=\"color: #000000; text-decoration-color: #000000; background-color: #b5cf6b\">                                                                                </span>\n",
       "</pre>\n"
      ],
      "text/plain": [
       "\u001b[38;2;255;255;255;48;2;57;59;121m                                                                                \u001b[0m\n",
       "\u001b[38;2;255;255;255;48;2;57;59;121m                                    \u001b[0m\u001b[38;2;255;255;255;48;2;57;59;121mCPU 0,1\u001b[0m\u001b[38;2;255;255;255;48;2;57;59;121m                                     \u001b[0m\n",
       "\u001b[38;2;255;255;255;48;2;57;59;121m                                                                                \u001b[0m\n",
       "\u001b[38;2;255;255;255;48;2;222;158;214m                                                                                \u001b[0m\n",
       "\u001b[38;2;255;255;255;48;2;222;158;214m                                    \u001b[0m\u001b[38;2;255;255;255;48;2;222;158;214mCPU 2,3\u001b[0m\u001b[38;2;255;255;255;48;2;222;158;214m                                     \u001b[0m\n",
       "\u001b[38;2;255;255;255;48;2;222;158;214m                                                                                \u001b[0m\n",
       "\u001b[38;2;255;255;255;48;2;173;73;74m                                                                                \u001b[0m\n",
       "\u001b[38;2;255;255;255;48;2;173;73;74m                                    \u001b[0m\u001b[38;2;255;255;255;48;2;173;73;74mCPU 4,5\u001b[0m\u001b[38;2;255;255;255;48;2;173;73;74m                                     \u001b[0m\n",
       "\u001b[38;2;255;255;255;48;2;173;73;74m                                                                                \u001b[0m\n",
       "\u001b[38;2;0;0;0;48;2;181;207;107m                                                                                \u001b[0m\n",
       "\u001b[38;2;0;0;0;48;2;181;207;107m                                    \u001b[0m\u001b[38;2;0;0;0;48;2;181;207;107mCPU 6,7\u001b[0m\u001b[38;2;0;0;0;48;2;181;207;107m                                     \u001b[0m\n",
       "\u001b[38;2;0;0;0;48;2;181;207;107m                                                                                \u001b[0m\n"
      ]
     },
     "metadata": {},
     "output_type": "display_data"
    },
    {
     "name": "stdout",
     "output_type": "stream",
     "text": [
      "`intermediate` array sharding:\n",
      "(Axis(name='batch', size=8), Axis(name='mlp', size=128))\n"
     ]
    },
    {
     "data": {
      "text/html": [
       "<pre style=\"white-space:pre;overflow-x:auto;line-height:normal;font-family:Menlo,'DejaVu Sans Mono',consolas,'Courier New',monospace\"><span style=\"color: #ffffff; text-decoration-color: #ffffff; background-color: #393b79\">                                        </span><span style=\"color: #ffffff; text-decoration-color: #ffffff; background-color: #d6616b\">                                        </span>\n",
       "<span style=\"color: #ffffff; text-decoration-color: #ffffff; background-color: #393b79\">                                        </span><span style=\"color: #ffffff; text-decoration-color: #ffffff; background-color: #d6616b\">                                        </span>\n",
       "<span style=\"color: #ffffff; text-decoration-color: #ffffff; background-color: #8ca252\">                                        </span><span style=\"color: #ffffff; text-decoration-color: #ffffff; background-color: #de9ed6\">                                        </span>\n",
       "<span style=\"color: #ffffff; text-decoration-color: #ffffff; background-color: #8ca252\">                                        </span><span style=\"color: #ffffff; text-decoration-color: #ffffff; background-color: #de9ed6\">                                        </span>\n",
       "<span style=\"color: #000000; text-decoration-color: #000000; background-color: #e7cb94\">                                        </span><span style=\"color: #ffffff; text-decoration-color: #ffffff; background-color: #6b6ecf\">                                        </span>\n",
       "<span style=\"color: #000000; text-decoration-color: #000000; background-color: #e7cb94\">                                        </span><span style=\"color: #ffffff; text-decoration-color: #ffffff; background-color: #6b6ecf\">                                        </span>\n",
       "<span style=\"color: #ffffff; text-decoration-color: #ffffff; background-color: #a55194\">                                        </span><span style=\"color: #ffffff; text-decoration-color: #ffffff; background-color: #8c6d31\">                                        </span>\n",
       "<span style=\"color: #ffffff; text-decoration-color: #ffffff; background-color: #a55194\">                                        </span><span style=\"color: #ffffff; text-decoration-color: #ffffff; background-color: #8c6d31\">                                        </span>\n",
       "</pre>\n"
      ],
      "text/plain": [
       "\u001b[38;2;255;255;255;48;2;57;59;121m                                        \u001b[0m\u001b[38;2;255;255;255;48;2;214;97;107m                                        \u001b[0m\n",
       "\u001b[38;2;255;255;255;48;2;57;59;121m                                        \u001b[0m\u001b[38;2;255;255;255;48;2;214;97;107m                                        \u001b[0m\n",
       "\u001b[38;2;255;255;255;48;2;140;162;82m                                        \u001b[0m\u001b[38;2;255;255;255;48;2;222;158;214m                                        \u001b[0m\n",
       "\u001b[38;2;255;255;255;48;2;140;162;82m                                        \u001b[0m\u001b[38;2;255;255;255;48;2;222;158;214m                                        \u001b[0m\n",
       "\u001b[38;2;0;0;0;48;2;231;203;148m                                        \u001b[0m\u001b[38;2;255;255;255;48;2;107;110;207m                                        \u001b[0m\n",
       "\u001b[38;2;0;0;0;48;2;231;203;148m                                        \u001b[0m\u001b[38;2;255;255;255;48;2;107;110;207m                                        \u001b[0m\n",
       "\u001b[38;2;255;255;255;48;2;165;81;148m                                        \u001b[0m\u001b[38;2;255;255;255;48;2;140;109;49m                                        \u001b[0m\n",
       "\u001b[38;2;255;255;255;48;2;165;81;148m                                        \u001b[0m\u001b[38;2;255;255;255;48;2;140;109;49m                                        \u001b[0m\n"
      ]
     },
     "metadata": {},
     "output_type": "display_data"
    },
    {
     "name": "stdout",
     "output_type": "stream",
     "text": [
      "output array sharding:\n"
     ]
    },
    {
     "data": {
      "text/html": [
       "<pre style=\"white-space:pre;overflow-x:auto;line-height:normal;font-family:Menlo,'DejaVu Sans Mono',consolas,'Courier New',monospace\"><span style=\"color: #ffffff; text-decoration-color: #ffffff; background-color: #393b79\">                                                                                </span>\n",
       "<span style=\"color: #ffffff; text-decoration-color: #ffffff; background-color: #393b79\">                                    CPU 0,1                                     </span>\n",
       "<span style=\"color: #ffffff; text-decoration-color: #ffffff; background-color: #393b79\">                                                                                </span>\n",
       "<span style=\"color: #ffffff; text-decoration-color: #ffffff; background-color: #de9ed6\">                                                                                </span>\n",
       "<span style=\"color: #ffffff; text-decoration-color: #ffffff; background-color: #de9ed6\">                                    CPU 2,3                                     </span>\n",
       "<span style=\"color: #ffffff; text-decoration-color: #ffffff; background-color: #de9ed6\">                                                                                </span>\n",
       "<span style=\"color: #ffffff; text-decoration-color: #ffffff; background-color: #ad494a\">                                                                                </span>\n",
       "<span style=\"color: #ffffff; text-decoration-color: #ffffff; background-color: #ad494a\">                                    CPU 4,5                                     </span>\n",
       "<span style=\"color: #ffffff; text-decoration-color: #ffffff; background-color: #ad494a\">                                                                                </span>\n",
       "<span style=\"color: #000000; text-decoration-color: #000000; background-color: #b5cf6b\">                                                                                </span>\n",
       "<span style=\"color: #000000; text-decoration-color: #000000; background-color: #b5cf6b\">                                    CPU 6,7                                     </span>\n",
       "<span style=\"color: #000000; text-decoration-color: #000000; background-color: #b5cf6b\">                                                                                </span>\n",
       "</pre>\n"
      ],
      "text/plain": [
       "\u001b[38;2;255;255;255;48;2;57;59;121m                                                                                \u001b[0m\n",
       "\u001b[38;2;255;255;255;48;2;57;59;121m                                    \u001b[0m\u001b[38;2;255;255;255;48;2;57;59;121mCPU 0,1\u001b[0m\u001b[38;2;255;255;255;48;2;57;59;121m                                     \u001b[0m\n",
       "\u001b[38;2;255;255;255;48;2;57;59;121m                                                                                \u001b[0m\n",
       "\u001b[38;2;255;255;255;48;2;222;158;214m                                                                                \u001b[0m\n",
       "\u001b[38;2;255;255;255;48;2;222;158;214m                                    \u001b[0m\u001b[38;2;255;255;255;48;2;222;158;214mCPU 2,3\u001b[0m\u001b[38;2;255;255;255;48;2;222;158;214m                                     \u001b[0m\n",
       "\u001b[38;2;255;255;255;48;2;222;158;214m                                                                                \u001b[0m\n",
       "\u001b[38;2;255;255;255;48;2;173;73;74m                                                                                \u001b[0m\n",
       "\u001b[38;2;255;255;255;48;2;173;73;74m                                    \u001b[0m\u001b[38;2;255;255;255;48;2;173;73;74mCPU 4,5\u001b[0m\u001b[38;2;255;255;255;48;2;173;73;74m                                     \u001b[0m\n",
       "\u001b[38;2;255;255;255;48;2;173;73;74m                                                                                \u001b[0m\n",
       "\u001b[38;2;0;0;0;48;2;181;207;107m                                                                                \u001b[0m\n",
       "\u001b[38;2;0;0;0;48;2;181;207;107m                                    \u001b[0m\u001b[38;2;0;0;0;48;2;181;207;107mCPU 6,7\u001b[0m\u001b[38;2;0;0;0;48;2;181;207;107m                                     \u001b[0m\n",
       "\u001b[38;2;0;0;0;48;2;181;207;107m                                                                                \u001b[0m\n"
      ]
     },
     "metadata": {},
     "output_type": "display_data"
    }
   ],
   "source": [
    "ff = FeedForward.init(Embed, Mlp, key=jax.random.PRNGKey(0))\n",
    "\n",
    "# we'll use compute_axis_mapping because we're going to do compute on it.\n",
    "ff = hax.shard_with_axis_mapping(ff, compute_axis_mapping, mp_mesh)\n",
    "x = hax.random.uniform(jax.random.PRNGKey(1), (Batch, Embed))\n",
    "x = hax.shard_with_axis_mapping(x, compute_axis_mapping, mp_mesh)\n",
    "\n",
    "print(\"input array sharding\")\n",
    "jax.debug.visualize_array_sharding(x.array)\n",
    "\n",
    "intermediate = ff.proj_up(x)\n",
    "print(\"`intermediate` array sharding:\")\n",
    "print(intermediate.axes)\n",
    "jax.debug.visualize_array_sharding(intermediate.array)\n",
    "# just for completeness:\n",
    "intermediate = hax.nn.gelu(intermediate)\n",
    "out = ff.proj_down(intermediate)\n",
    "print(\"output array sharding:\")\n",
    "jax.debug.visualize_array_sharding(out.array)\n"
   ]
  },
  {
   "cell_type": "markdown",
   "metadata": {},
   "source": [
    "As you can see, the `intermediate` array is indeed sharded so that the first axis, `Batch`, is sharded across the `\"data\"` axis of the mesh, while the second axis, `Mlp`, is sharded across the `\"model\"` axis of the mesh.\n",
    "\n",
    "And, as desired, the inputs and outputs are sharded the same way."
   ]
  },
  {
   "cell_type": "markdown",
   "metadata": {},
   "source": [
    "## Tensor-Parallel Attention\n",
    "\n",
    "Let's do tensor parallel attention. I'm not going to go into too much depth here, but it's actually straightforward with the tools we have arleady.\n",
    "\n",
    "Recall that the transformations we do in the Attention module are:\n",
    "* `proj_qkv`: `[Embed] -> [Qkv, Head, Key]`\n",
    "* Attention: `(q: [Head, Pos, Key], k: [Head, KeyPos, Key], v: [Head, KeyPos, Key] -> [Head, Pos, Key]`)\n",
    "* `proj_answer`: `[Head, Key] -> Embed`\n",
    "\n",
    "Note that all of these operations involve a `Head` dimension. And indeed, intuitively, it makes sense that each head of multi-headed attention can mostly be done independently, modulo the final projection back to `Embed`.\n",
    "\n",
    "So, to make tensor parallel attention, we just need to partition `Head` just like we did `Mlp`.\n",
    "\n",
    "This gets us back to our TL;DR axis mappings:\n",
    "\n"
   ]
  },
  {
   "cell_type": "code",
   "execution_count": null,
   "metadata": {},
   "outputs": [],
   "source": [
    "tp_mapping = {\"mlp\": \"model\", \"head\": \"model\"}\n",
    "compute_axis_mapping = {**dp_axis_mapping, **tp_mapping}\n",
    "param_axis_mapping = {**fsdp_axis_mapping, **tp_mapping}"
   ]
  },
  {
   "cell_type": "markdown",
   "metadata": {},
   "source": [
    "And finally, let's run it. As before, with a model this size and especially on CPU, it's not going to make anything faster, and it'll probably be a bit slower."
   ]
  },
  {
   "cell_type": "code",
   "execution_count": null,
   "metadata": {},
   "outputs": [
    {
     "name": "stderr",
     "output_type": "stream",
     "text": [
      "Training:   1%|          | 1/100 [00:06<11:11,  6.78s/it, loss=10.9]"
     ]
    },
    {
     "name": "stdout",
     "output_type": "stream",
     "text": [
      "10.933688\n"
     ]
    },
    {
     "name": "stderr",
     "output_type": "stream",
     "text": [
      "Training:  51%|█████     | 51/100 [03:17<03:57,  4.84s/it, loss=8.8]"
     ]
    },
    {
     "name": "stdout",
     "output_type": "stream",
     "text": [
      "8.8004675\n"
     ]
    },
    {
     "name": "stderr",
     "output_type": "stream",
     "text": [
      "Training: 100%|██████████| 100/100 [05:38<00:00,  3.38s/it, loss=8.79]\n"
     ]
    }
   ],
   "source": [
    "_ = training_loop(mp_mesh, param_axis_mapping, compute_axis_mapping)"
   ]
  },
  {
   "cell_type": "markdown",
   "metadata": {},
   "source": [
    "# Conclusion\n",
    "\n",
    "That's it! Short and sweet. You have the tools you need to implement tensor parallelism in Haliax!"
   ]
  }
 ],
 "metadata": {
  "language_info": {
   "name": "python"
  }
 },
 "nbformat": 4,
 "nbformat_minor": 2
}
