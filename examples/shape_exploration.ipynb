{
 "cells": [
  {
   "cell_type": "code",
   "execution_count": 74,
   "outputs": [],
   "source": [
    "import jax\n",
    "from jax.experimental.pjit import pjit\n",
    "import jax.numpy as jnp\n",
    "import jax.random as jrandom\n",
    "import equinox as eqx\n",
    "import numpy as np\n",
    "\n",
    "import equinox.nn as nn\n",
    "\n",
    "key = jrandom.PRNGKey(0)"
   ],
   "metadata": {
    "collapsed": false,
    "pycharm": {
     "name": "#%%\n"
    }
   }
  },
  {
   "cell_type": "code",
   "execution_count": 75,
   "outputs": [
    {
     "name": "stdout",
     "output_type": "stream",
     "text": [
      "ShapeDtypeStruct(shape=(4,), dtype=float32)\n"
     ]
    }
   ],
   "source": [
    "\n",
    "from jax.experimental.pjit import pjit\n",
    "\n",
    "out = jax.eval_shape(nn.Linear(3, 4, key=key), jnp.zeros(3))\n",
    "print(out)\n",
    "\n",
    "def fake_train(mod: eqx.Module):\n",
    "    return mod\n",
    "\n",
    "mod_out = jax.eval_shape(fake_train, nn.Linear(3, 4, key=key))\n",
    "\n",
    "\n"
   ],
   "metadata": {
    "collapsed": false,
    "pycharm": {
     "name": "#%%\n"
    }
   }
  },
  {
   "cell_type": "code",
   "execution_count": 76,
   "outputs": [],
   "source": [
    "from jax.interpreters.pxla import PartitionSpec\n",
    "from jax.experimental.maps import Mesh\n",
    "from jax.interpreters.pxla import thread_resources\n",
    "\n",
    "nd = jnp.zeros(10)\n",
    "hi = type(nd)\n",
    "\n",
    "qq = pjit(lambda: jnp.zeros((10, 15, 3)), in_axis_resources=None, out_axis_resources=PartitionSpec(None, 'x', 'y'))\n",
    "zz = pjit(lambda: jnp.zeros((10, 15, 3)), in_axis_resources=None, out_axis_resources=PartitionSpec(None, 'y', 'x'))\n",
    "aa = pjit(lambda: jnp.zeros((10, 15, 3)), in_axis_resources=None, out_axis_resources=PartitionSpec(None, ('x', 'y'), None))\n",
    "bb = pjit(lambda: jnp.zeros((10, 15, 3)), in_axis_resources=None, out_axis_resources=PartitionSpec(None, ('y', 'x'), 'z'))\n",
    "\n",
    "mesh = Mesh(np.array(jax.devices()).reshape(1, 1, 1), [\"x\", \"y\", \"z\"])\n",
    "\n",
    "with mesh:\n",
    "    arr = qq()\n",
    "    arr2 = zz()\n",
    "    arr3 = aa()\n",
    "    arr4 = bb()\n",
    "    q = thread_resources.env\n",
    "\n",
    "    s1 = arr.sharding_spec\n",
    "    s2 = arr2.sharding_spec\n",
    "    s3 = arr3.sharding_spec\n",
    "    s4 = arr4.sharding_spec\n",
    "\n",
    "\n",
    "\n",
    "with mesh:\n",
    "    z = jax.eval_shape(qq)\n"
   ],
   "metadata": {
    "collapsed": false,
    "pycharm": {
     "name": "#%%\n"
    }
   }
  },
  {
   "cell_type": "markdown",
   "source": [],
   "metadata": {
    "collapsed": false,
    "pycharm": {
     "name": "#%% md\n"
    }
   }
  }
 ],
 "metadata": {
  "kernelspec": {
   "display_name": "Python 3",
   "language": "python",
   "name": "python3"
  },
  "language_info": {
   "codemirror_mode": {
    "name": "ipython",
    "version": 2
   },
   "file_extension": ".py",
   "mimetype": "text/x-python",
   "name": "python",
   "nbconvert_exporter": "python",
   "pygments_lexer": "ipython2",
   "version": "2.7.6"
  }
 },
 "nbformat": 4,
 "nbformat_minor": 0
}