{
 "cells": [
  {
   "cell_type": "code",
   "execution_count": 2,
   "id": "b22d06e4-3a38-43ac-b5eb-5a0e08b542ee",
   "metadata": {},
   "outputs": [],
   "source": [
    "import numpy as np\n",
    "from pathlib import Path\n",
    "import os\n",
    "import matplotlib.pyplot as plt\n",
    "from scipy.stats import spearmanr"
   ]
  },
  {
   "cell_type": "code",
   "execution_count": 3,
   "id": "806d8397-192c-4f9d-8ae0-2f8aa63c56bc",
   "metadata": {},
   "outputs": [],
   "source": [
    "DIR = Path('/juice5b/scr5b/sampark/src/levanter2/out_dir/test_cfx_fineweb_debug_Aug8/')"
   ]
  },
  {
   "cell_type": "code",
   "execution_count": 16,
   "id": "2d33380c-bd89-47f3-bff3-7d9b751f1ca0",
   "metadata": {},
   "outputs": [],
   "source": [
    "y_null = np.load(DIR / 'null/reward.npy')\n",
    "metagrads = np.load(DIR / 'null/metagrads.npy')"
   ]
  },
  {
   "cell_type": "code",
   "execution_count": 5,
   "id": "43403248-3c91-4120-8210-41d54131c96e",
   "metadata": {},
   "outputs": [
    {
     "data": {
      "text/plain": [
       "(array(-8.383333, dtype=float32), (100000,))"
      ]
     },
     "execution_count": 5,
     "metadata": {},
     "output_type": "execute_result"
    }
   ],
   "source": [
    "y_null, metagrads.shape"
   ]
  },
  {
   "cell_type": "code",
   "execution_count": 6,
   "id": "db2fcd84-ef03-41f9-b00d-69acfc0509d7",
   "metadata": {},
   "outputs": [
    {
     "data": {
      "text/plain": [
       "array([0.01013947, 0.00599189, 0.00914504, ..., 0.        , 0.        ,\n",
       "       0.        ], shape=(89760,), dtype=float32)"
      ]
     },
     "execution_count": 6,
     "metadata": {},
     "output_type": "execute_result"
    }
   ],
   "source": [
    "metagrads[10*1024:]"
   ]
  },
  {
   "cell_type": "code",
   "execution_count": 33,
   "id": "074eaeb3-058d-422c-87bd-2dda86f3b701",
   "metadata": {
    "scrolled": true
   },
   "outputs": [
    {
     "data": {
      "text/plain": [
       "array([0.01082897, 0.01090813, 0.01164055, 0.01191139, 0.0116806 ,\n",
       "       0.01159859, 0.01034641, 0.01147366, 0.01086617, 0.01167774,\n",
       "       0.01119137, 0.0116396 , 0.01113987, 0.01069164, 0.01082897,\n",
       "       0.01137447, 0.01119423, 0.01079845, 0.01226044, 0.01196957,\n",
       "       0.01112461, 0.01122284, 0.01085186, 0.01134014, 0.01100445,\n",
       "       0.01176739, 0.01149368, 0.01160717, 0.01100731, 0.0116272 ,\n",
       "       0.01179218, 0.01139069, 0.01082325, 0.01229286, 0.01141453,\n",
       "       0.01101875, 0.01169395, 0.01129055, 0.01170921, 0.01120472])"
      ]
     },
     "execution_count": 33,
     "metadata": {},
     "output_type": "execute_result"
    }
   ],
   "source": [
    "ys = []\n",
    "masks = []\n",
    "\n",
    "for i in range(40):\n",
    "    if os.path.exists(DIR / f'{i}/reward.npy'):\n",
    "        y = np.load(DIR / f'{i}/reward.npy')\n",
    "        mask = np.load(DIR / f'{i}/data_weight_vector.npy')\n",
    "\n",
    "        ys.append(y_null.item() - y.item())\n",
    "        masks.append(mask)\n",
    "    else:\n",
    "        print(i)\n",
    "\n",
    "ys = np.array(ys)\n",
    "ys"
   ]
  },
  {
   "cell_type": "code",
   "execution_count": null,
   "id": "3bad78d7-0a51-4cc0-b11c-4dcc02097b6d",
   "metadata": {},
   "outputs": [],
   "source": []
  },
  {
   "cell_type": "code",
   "execution_count": null,
   "id": "976e1e54-fb90-48d2-8680-8f145d370bf8",
   "metadata": {},
   "outputs": [],
   "source": []
  },
  {
   "cell_type": "code",
   "execution_count": 34,
   "id": "1195507c-da3d-4a66-9f76-712c5b58db5c",
   "metadata": {},
   "outputs": [
    {
     "name": "stdout",
     "output_type": "stream",
     "text": [
      "0.9489258\n",
      "0.95166016\n",
      "0.9484375\n",
      "0.9490234\n",
      "0.95166016\n",
      "0.9488281\n",
      "0.953125\n",
      "0.9488281\n",
      "0.94814456\n",
      "0.9493164\n"
     ]
    }
   ],
   "source": [
    "for i in range(10):\n",
    "    print(masks[i][:40 * 256].mean())"
   ]
  },
  {
   "cell_type": "code",
   "execution_count": 54,
   "id": "196f036e-2d3d-4199-abad-587e17dce47f",
   "metadata": {},
   "outputs": [
    {
     "data": {
      "text/plain": [
       "array([10.157257 , 10.233582 , 10.96817  , 11.16214  , 11.087021 ,\n",
       "       10.844498 ,  9.682556 , 10.814957 , 10.185928 , 10.858978 ,\n",
       "       10.491974 , 10.914612 , 10.511017 , 10.118912 , 10.072479 ,\n",
       "       10.759186 , 10.595596 , 10.158493 , 11.331696 , 11.286453 ,\n",
       "       10.514435 , 10.665665 , 10.219559 , 10.711395 , 10.500061 ,\n",
       "       10.956146 , 10.824112 , 10.911209 , 10.405212 , 10.85527  ,\n",
       "       11.0217285, 10.639618 , 10.158798 , 11.481689 , 10.80983  ,\n",
       "       10.428116 , 11.007599 , 10.704102 , 11.013718 , 10.442871 ],\n",
       "      dtype=float32)"
      ]
     },
     "execution_count": 54,
     "metadata": {},
     "output_type": "execute_result"
    }
   ],
   "source": [
    "N = 1024 * 1000\n",
    "\n",
    "y_preds = np.array([metagrads.sum() - (metagrads * masks[i])[:N].sum() for i in range(len(masks))])\n",
    "y_preds"
   ]
  },
  {
   "cell_type": "code",
   "execution_count": 51,
   "id": "c1b60ef5-4ddb-4697-b18a-836af9309627",
   "metadata": {},
   "outputs": [
    {
     "data": {
      "text/plain": [
       "array([1., 0., 1., ..., 1., 1., 1.], shape=(100000,), dtype=float32)"
      ]
     },
     "execution_count": 51,
     "metadata": {},
     "output_type": "execute_result"
    }
   ],
   "source": [
    "masks[0]"
   ]
  },
  {
   "cell_type": "code",
   "execution_count": 36,
   "id": "6acaec67-0cc4-4eb7-abc6-bb57e118b3b7",
   "metadata": {},
   "outputs": [
    {
     "data": {
      "text/plain": [
       "array([0.01082897, 0.01090813, 0.01164055, 0.01191139, 0.0116806 ,\n",
       "       0.01159859, 0.01034641, 0.01147366, 0.01086617, 0.01167774,\n",
       "       0.01119137, 0.0116396 , 0.01113987, 0.01069164, 0.01082897,\n",
       "       0.01137447, 0.01119423, 0.01079845, 0.01226044, 0.01196957,\n",
       "       0.01112461, 0.01122284, 0.01085186, 0.01134014, 0.01100445,\n",
       "       0.01176739, 0.01149368, 0.01160717, 0.01100731, 0.0116272 ,\n",
       "       0.01179218, 0.01139069, 0.01082325, 0.01229286, 0.01141453,\n",
       "       0.01101875, 0.01169395, 0.01129055, 0.01170921, 0.01120472])"
      ]
     },
     "execution_count": 36,
     "metadata": {},
     "output_type": "execute_result"
    }
   ],
   "source": [
    "ys"
   ]
  },
  {
   "cell_type": "code",
   "execution_count": 38,
   "id": "f4f70f1e-e8b9-4e17-a38e-1b607b383c5c",
   "metadata": {},
   "outputs": [
    {
     "data": {
      "text/plain": [
       "array([-203.82047, -203.74414, -203.00955, -202.81558, -202.8907 ,\n",
       "       -203.13322, -204.29517, -203.16277, -203.7918 , -203.11874,\n",
       "       -203.48575, -203.06311, -203.4667 , -203.85881, -203.90524,\n",
       "       -203.21854, -203.38213, -203.81923, -202.64603, -202.69127,\n",
       "       -203.46329, -203.31206, -203.75816, -203.26633, -203.47766,\n",
       "       -203.02158, -203.15361, -203.06651, -203.57251, -203.12245,\n",
       "       -202.956  , -203.3381 , -203.81892, -202.49603, -203.1679 ,\n",
       "       -203.5496 , -202.97012, -203.27362, -202.964  , -203.53485],\n",
       "      dtype=float32)"
      ]
     },
     "execution_count": 38,
     "metadata": {},
     "output_type": "execute_result"
    }
   ],
   "source": [
    "y_preds"
   ]
  },
  {
   "cell_type": "code",
   "execution_count": 42,
   "id": "7b6424cc-44d6-4444-9548-cdbe928abfa0",
   "metadata": {},
   "outputs": [
    {
     "data": {
      "text/plain": [
       "array([1., 0., 1., ..., 1., 1., 1.], shape=(100000,), dtype=float32)"
      ]
     },
     "execution_count": 42,
     "metadata": {},
     "output_type": "execute_result"
    }
   ],
   "source": [
    "masks[0]"
   ]
  },
  {
   "cell_type": "code",
   "execution_count": 41,
   "id": "140572fe-d9d2-46aa-b46e-6ee3e7112ae0",
   "metadata": {},
   "outputs": [
    {
     "data": {
      "text/plain": [
       "(array([1.0000e+00, 0.0000e+00, 1.0000e+00, 2.0000e+00, 2.0000e+00,\n",
       "        4.0000e+00, 1.2000e+01, 2.3000e+01, 5.9000e+01, 9.5000e+01,\n",
       "        2.6300e+02, 5.3700e+02, 1.0120e+03, 2.1120e+03, 7.0967e+04,\n",
       "        2.3111e+04, 1.3620e+03, 2.6100e+02, 9.5000e+01, 4.1000e+01,\n",
       "        1.6000e+01, 1.0000e+01, 2.0000e+00, 4.0000e+00, 4.0000e+00,\n",
       "        1.0000e+00, 0.0000e+00, 1.0000e+00, 0.0000e+00, 2.0000e+00]),\n",
       " array([-0.11188694, -0.10408188, -0.09627683, -0.08847178, -0.08066672,\n",
       "        -0.07286167, -0.06505661, -0.05725156, -0.0494465 , -0.04164145,\n",
       "        -0.03383639, -0.02603134, -0.01822629, -0.01042123, -0.00261617,\n",
       "         0.00518887,  0.01299393,  0.02079899,  0.02860404,  0.0364091 ,\n",
       "         0.04421415,  0.0520192 ,  0.05982427,  0.06762931,  0.07543436,\n",
       "         0.08323943,  0.09104448,  0.09884953,  0.10665459,  0.11445964,\n",
       "         0.12226468]),\n",
       " <BarContainer object of 30 artists>)"
      ]
     },
     "execution_count": 41,
     "metadata": {},
     "output_type": "execute_result"
    },
    {
     "data": {
      "image/png": "[encoded data removed]",
      "text/plain": [
       "<Figure size 640x480 with 1 Axes>"
      ]
     },
     "metadata": {},
     "output_type": "display_data"
    }
   ],
   "source": [
    "plt.hist(metagrads, bins=30)"
   ]
  },
  {
   "cell_type": "code",
   "execution_count": 67,
   "id": "57d0a18a-5c7b-47a5-b80a-c1cdee0503b1",
   "metadata": {},
   "outputs": [
    {
     "data": {
      "text/plain": [
       "Text(0, 0.5, 'Predicted')"
      ]
     },
     "execution_count": 67,
     "metadata": {},
     "output_type": "execute_result"
    },
    {
     "data": {
      "image/png": "[encoded data removed]",
      "text/plain": [
       "<Figure size 640x480 with 1 Axes>"
      ]
     },
     "metadata": {},
     "output_type": "display_data"
    }
   ],
   "source": [
    "gts = ys\n",
    "preds = y_preds / 1024\n",
    "\n",
    "plt.scatter(ys, preds)\n",
    "\n",
    "m, M = min(gts.min(), preds.min()), max(gts.max(), preds.max())\n",
    "\n",
    "plt.plot([0, M], [0, M], color='grey', linestyle='-')\n",
    "plt.plot([0], [0], color='red', marker='x')\n",
    "\n",
    "plt.xlabel('GT')\n",
    "plt.ylabel('Predicted')"
   ]
  },
  {
   "cell_type": "code",
   "execution_count": 44,
   "id": "5451d23b-06b3-440e-aa79-4222bf655419",
   "metadata": {},
   "outputs": [
    {
     "data": {
      "text/plain": [
       "(np.float64(0.010346412658691406), np.float64(0.012292861938476562))"
      ]
     },
     "execution_count": 44,
     "metadata": {},
     "output_type": "execute_result"
    }
   ],
   "source": [
    "ys.min(), ys.max()"
   ]
  },
  {
   "cell_type": "code",
   "execution_count": 45,
   "id": "2b8e32fb-efff-41ef-abcd-2f65ce0e9693",
   "metadata": {},
   "outputs": [
    {
     "data": {
      "text/plain": [
       "(np.float32(-204.29517), np.float32(-202.49603))"
      ]
     },
     "execution_count": 45,
     "metadata": {},
     "output_type": "execute_result"
    }
   ],
   "source": [
    "y_preds.min(), y_preds.max()"
   ]
  },
  {
   "cell_type": "code",
   "execution_count": null,
   "id": "17300385-e2ea-4917-85ba-8ab4262f2bba",
   "metadata": {},
   "outputs": [],
   "source": []
  },
  {
   "cell_type": "code",
   "execution_count": null,
   "id": "70e1d8c1-1f34-4166-a371-858e1dbbd97e",
   "metadata": {},
   "outputs": [],
   "source": []
  },
  {
   "cell_type": "code",
   "execution_count": null,
   "id": "c6538614-6564-40c9-929e-f3cce69b9715",
   "metadata": {},
   "outputs": [],
   "source": []
  },
  {
   "cell_type": "code",
   "execution_count": 21,
   "id": "9c258f9c-952d-47cf-903a-6cd4dd944d1b",
   "metadata": {},
   "outputs": [
    {
     "data": {
      "text/plain": [
       "SignificanceResult(statistic=np.float64(0.9854120748211045), pvalue=np.float64(7.7676522073345165e-31))"
      ]
     },
     "execution_count": 21,
     "metadata": {},
     "output_type": "execute_result"
    }
   ],
   "source": [
    "spearmanr(-ys, y_preds)"
   ]
  },
  {
   "cell_type": "code",
   "execution_count": null,
   "id": "d168fd4d-9246-4010-b7b3-b8a491578fc0",
   "metadata": {},
   "outputs": [],
   "source": []
  },
  {
   "cell_type": "code",
   "execution_count": null,
   "id": "19b60ea2-9a5a-4fea-bb4d-a1af5241964f",
   "metadata": {},
   "outputs": [],
   "source": []
  },
  {
   "cell_type": "code",
   "execution_count": null,
   "id": "3c85c876-f01f-49c2-b14f-5d8037123f86",
   "metadata": {},
   "outputs": [],
   "source": []
  },
  {
   "cell_type": "code",
   "execution_count": 15,
   "id": "3c515fa3-d38d-460d-96a9-24a2d5cd1fbb",
   "metadata": {},
   "outputs": [
    {
     "name": "stdout",
     "output_type": "stream",
     "text": [
      "[0] {\n",
      "  \"text\": \"|Henry Gray (18251861). Anatomy of the Human Body. 1918.|\\n|tubercle on its posterior surface, medial to the groove for the tendon of the Flexor hallucis longus. The deep fibers (anterior talotibial) are attached, above, to the tip of the medial malleolus, and, below, to the medial surface of the talus. The deltoid ligament is covered by the tendons of the Tibialis posterior and Flexor digitorum longus.|\\n| The anterior and posterior talofibular and the calcaneofibular ligaments were formerly described as the three fasciculi of the external lateral ligament of the ankle-joint.|\\nThe Anterior Talofibular Ligament. (ligamentum talofibulare anterius) (Fig. 355).The anterior talofibular ligament, the shortest of the three, passes from the anterior margin of the fibular malleolus, forward and medially, to the talus, in front of its lateral articular facet.\\nThe Posterior Talofibular Ligament (ligamentum talofibulare posterius) (Fig. 355).The posterior talofibular ligament, the strongest and most deeply seated, runs almost horizontally from the depression at the medial and back part of the fibular malleolus to a prominent tubercle on the posterior surface of the talus immediately lateral to the groove for the tendon of the Flexor hallucis longus.\\nThe Calcaneofibular Ligament (ligamentum calcaneofibulare) (Fig. 355).The calcaneofibular ligament, the longest of the three, is a narrow, rounded cord, running from the apex of the fibular malleolus downward and slightly backward to a tubercle on the lateral surface of the calcaneus. It is covered by the tendons of the Peron\\u00e6i longus and brevis.\\nFIG. 356 Capsule of left talocrura articulation (distended). Lateral aspect. (See enlarged image)\\nSynovial Membrane (Fig. 356).The synovial membrane invests the deep surfaces of the ligaments, and sends a small process upward between the lower ends of the tibia and fibula.\\nRelations.The tendons, vessels, and nerves in connection with the joint are, in front, from th\n",
      "[1] {\n",
      "  \"text\": \"PINE ISLAND, Fla. - With oil still gushing into the gulf of Mexico, local firefighters and volunteers are training for a worst case scenario - oil in mangroves and protected areas.\\nThe Matlacha Aquatic Preserve and Pine Island Sound are focus areas of these training efforts. Both are very sensitive natural habitats that today's group is now trained to protect.\\nThe sight is probably familiar by now. The boats, the yellow boom, and a crew of people tending to water that's been contaminated. But, this is only an exercise, part of a 24 hour OSHA approved training program.\\n\\\"We would be the first responders in the occasion that the oil came out of the gulf and into here,\\\" said volunteer Zeke McDonald.\\nFor McDonald, the first priority is keeping oil out of the back bay. But he worries about what would happen if the oil seeps in.\\n\\\"I just can't imagine, look what's going on in Louisiana,\\\" said McDonald.\\nMembers of the Upper Captiva Fire and Rescue District, Charlotte County Fire and Rescue and some of the local barge operators practiced for the real thing.\\nIn one exercise, crews need to contain an oil sheen. Instead of oil, they use cereal. The idea is that the cereal behaves just like an oil sheen would on top of the water.\\\"\\nAccording to Chief Richard Pepper with Upper Captiva Fire, a day's notice or less is all they need to mobilize and begin containing oil. How bad could it get? At this point, it's anybody's guess, but Pepper says they will be ready.\\n\\\"The information we have suggests that it's just a matter of time and it will be an ongoing evolution,\\\" said Pepper.\",\n",
      "  \"id\": \"<urn:uuid:ba46bcbb-67fd-468e-8837-3687ceb1654a>\",\n",
      "  \"metadata\": {\n",
      "    \"dump\": \"CC-MAIN-2014-10\",\n",
      "    \"url\": \"http://www.winknews.com/Local-Florida/2010-06-10/Firefighters-volunteers-trained-to-clean-up-oil\",\n",
      "    \"file_path\": \"s3://commoncrawl/crawl-data/CC-MAIN-2014-10/segments/1394678704980/warc/CC-MAIN-20140313024504-00002-ip-10-183-142-35.ec2.internal.warc.gz\",\n",
      "    \"la\n",
      "[2] {\n",
      "  \"text\": \"He was the Once and Future prince. The most important boy in all of England, the entire hopes of a new dynasty rested upon Arthur Tudor. He became a bright and beautiful young man who spent his entire life in pursuit of greatness. He was a young scholar, a leader, a lord and a husband. Then his life was snatched from him, and Arthur faded into obscurity. Over the centuries Arthur has become a faint impression, overshadowed by his father Henry VII\\u2019s difficult final years as he coped with the loss of his son and wife; outshone by the plight of his beautiful princess left widowed and stranded in a foreign country; forever eclipsed by the legendary reign of his tyrannical yet charismatic brother Henry VIII. Arthur is a curiosity, an allegedly frail young man who accomplished little more than being the first husband of the mighty Katherine of Aragon, and whose wedding night would cause centuries of speculation and frenzied debate.\\nPrince Arthur: The Tudor King Who Never Was tells the story of the real Arthur, an influential figure in his own right, a thoughtful and well-loved young man who was on his way to becoming one of the most important figures in Europe. Dr. Sean Cunningham joins us today to discuss his new book, and the Tudor prince who had the potential to become one of history\\u2019s greatest kings.\\nYour research focuses on the Yorkist and early Tudor reigns, what was it about Prince Arthur that you found intriguing?\\nPrince Arthur seems to encapsulate the triumph, tragedy and contradictions of the Tudors in one short life.\\nHis parents risked a great deal on his birth but then sent him away to be raised independently. He went on to rule the Marches of Wales as a king-in-waiting, hardly saw his parents, but remained at the core of Henry VII\\u2019s hopes for the long-term security of the Tudor royal family and its right to the crown.\\nArthur\\u2019s marriage demonstrated the wealth and ambition of Henry VII but did not bring him physically into\n",
      "[3] {\n",
      "  \"text\": \"Why do we need this research?\\nThrombophilia is a condition that increases a person\\u2019s chances of having a blood clot. Pregnant women with inherited thrombophilia are thought to be more likely to experience complications during their pregnancy, such as pre-eclampsia, slow growth and recurrent miscarriage.\\nAnticoagulants \\u2013 or \\u2018blood-thinning\\u2019 medicines \\u2013 are the main treatment for people with thrombophilia. Many clinicians believe that anticoagulant treatments could improve outcomes for women with inherited thrombophilia who have experienced multiple miscarriages, although the current evidence for their use is inconclusive. More research is needed to show whether this treatment really does help to prevent miscarriage.\\nWhat\\u2019s happening in this project?\\nResearchers funded by Tommy\\u2019s are taking part in a large, multinational study called ALIFE-2. In this randomised controlled trial, women with inherited thrombophilia and a history of at least two previous losses will either be treated with Low Molecular Weight Heparin (LMWH) or receive standard pregnancy monitoring only. LMWH treatment will begin within the first seven weeks of pregnancy and continue until birth.\\nThe ALIFE-2 study is being carried out at 40 hospitals in eight countries around the world. 400 women agreed to take part, and 327 became pregnant and have been allocated to either treatment with LMWH or standard care. The team are waiting for the last few women to deliver their babies, and then will assess whether treatment with LMWH was beneficial by comparing how many women in each group had a live birth. They will also check how many women had pregnancy complications such as miscarriage, pre-eclampsia and premature birth, and make sure that there were no safety concerns with LMWH treatment.\\nWhat difference will this project make?\\nThis study should finally confirm whether anticoagulant treatment can help to prevent further losses in women with inherited th\n",
      "[4] {\n",
      "  \"text\": \"The English playwright Thomas Heywood (c. 1573-1641) worked successfully in a wide range of dramatic forms. A competent craftsman, he lacked the brilliance of the greater Elizabethan and Jacobean dramatists.\\nThomas Heywood, in all probability the son of the clergyman Robert Heywood, was born in Lincolnshire. He attended Cambridge but left without a degree when his father died in 1593. He seems to have moved directly from Cambridge to London, where he soon became an actor and playwright. By 1598 he had done enough dramatic writing to impress a contemporary as one of the best comic writers of the time. Unfortunately, none of Heywood's plays from this early period of his career has survived.\\nMost of Heywood's significant literary activity was done between 1600 and 1620. In 1633, in the preface to his play The English Traveller (probably written about 1623), he claims to have had \\\"either an entire hand, or at the least a main finger\\\" in 220 plays. Because Heywood, like most of his fellow playwrights, had little interest in printing works written for stage production, it is impossible to identify more than a small fraction of this amazing output. The Four Prentices of London (ca. 1600), A Woman Killed with Kindness (1603), and The Rape of Lucrece (1608) are the most important surviving plays which can be assigned with confidence to his pen.\\nA Woman Killed with Kindness, one of the finest tragedies of the \\\"bourgeois, \\\" or \\\"domestic, \\\" type, is universally regarded as Heywood's masterpiece. Mistress Anne Frankford, a virtuous and happy middle-class wife, unaccountably surrenders her honor to Wendoll, a man whom Master Frankford had befriended and received as a guest in his house. Mistress Frankford's punishment, repentance, and deathbed reconciliation with her husband are skillfully presented. Heywood throughout preserves sympathy for his heroine without relaxing his high moral tone.\\nHeywood also produced a number of nondramatic works, including tran\n",
      "[5] {\n",
      "  \"text\": \"In 2018, Oxitec\\u2019s proposal to test the release of biologically modified mosquitoes to combat biting invasive populations was bandied back and forth between the Environmental Protection Agency and Food and Drug Administration. The proposal drew much comment, plus there was a presidential election, and new department heads appointed. In the midst of all that turmoil, Oxitec \\u2014 a U.S.-owned, U.K.-based company that develops biologically engineered solutions to control disease-transmitting insects \\u2014 withdrew its application.\\nNot because it thinks it doesn\\u2019t have promise, but because Oxitec says it has something better to offer. The EPA\\u2019s public comment on its 2nd Generation trial opened on the federal register on Sept. 11. (Visit federalregister.gov and search for \\u201cOxitec.\\u201d)\\n\\u201cThe 2nd Generation mosquito is just as environmentally friendly and safe, but with the potential for greater performance and overall cost effectiveness,\\u201d said Kelly Matzen, who heads research and development for Oxitec.\\nHere are the key points.\\n- Only males\\nThe eggs of the 2nd Generation mosquito produce ONLY males. Male mosquitoes don\\u2019t bite and are therefore incapable of spreading diseases such as dengue, Zika, chikungunya and yellow fever. According to Oxitec, its Aedes aegypti carry a self-limiting gene that prevents female offspring from surviving, allowing for male-only production. The previous proposed method required adult mosquitoes to be carefully sorted by gender.\\n- Eggs, not adults\\nInstead of raising modified mosquitoes to adulthood before releasing them into the wild, the 2nd Generation mosquitoes can be distributed as eggs in boxes. (The eggs are currently produced in the U.K. and shipped globally to places such as Brazil where a trial is underway.) A box containing eggs could be placed in a back yard and filled with water, after which the males hatch and start to grow. When the mosquitoes emerge, they fly away into \n",
      "[6] {\n",
      "  \"text\": \"Social Media influence in today's world. Credit to forbes.com\\nThe freedom of information and the free exchange of ideas is what makes the internet the internet, but assumed anonymity is a major problem in today's cyber world.\\nHere at The College of St. Scholastica, the problem is that assumed anonymity is a problem with students on social media. In the last three years there have been at least 3 social media groups focused on student behavior. Groups like CSS confessions and CSS Pass-Outs on both Facebook and Twitter respectively have light-heartedly poked fun at student's everyday lives while occasionally bordering on the inappropriate. There have been groups in the past three years that have now gone defunct that have bordered on the sexually inappropriate and have been shut down based on these issues.\\nThis year on November 2nd an email was sent out by our Dean of Students Megan Perry-Spears regarding the recent Twitter group specifically and how the posts affected the school.\\nPerry-Spears said of the behavior, \\\"Those who post mean things, false things, misogynistic and racist things under the cloak of anonymity demonstrate a particularly nasty kind of cowardice and a profound failure to live within our Benedictine values.\\\"\\nEdward Snowden, a former CIA agent and NSA contractor has said, \\\"I believe in the principle declared at Nuremberg in 1945: \\\"Individuals have international duties which transcend the national obligations of obedience. Therefore individual citizens have the duty to violate domestic laws to prevent crimes against peace and humanity from occurring.'\\\"\\nAnonymity is a perceived thing on the internet in the Email sent out by Perry Spears she states, \\\"I do not know [yet] the names of those who created and monitor the feeds\\\".\\nThe simple fact that accounts like this have been shut down in the past speaks to the true nature of internet anonymity. Edward Snowden set out to prove to the American people that a digital trail was bein\n",
      "[7] {\n",
      "  \"text\": \"It\\u2019s the revolutionary American history study guide just for middle school students from the brains behind Brain Quest.\\nEverything You Need to Ace American History . . . covers Native Americans to the war in Iraq. There are units on Colonial America; the Revolutionary War and the founding of a new nation; Jefferson and the expansion west; the Civil War and Reconstruction; and all of the notable events of the 20th century\\u2014World Wars, the Depression, the Civil Rights movement, and much more.\",\n",
      "  \"id\": \"<urn:uuid:1f50fc06-8c9c-4b2d-a20b-72a0900f9cbf>\",\n",
      "  \"metadata\": {\n",
      "    \"dump\": \"CC-MAIN-2021-17\",\n",
      "    \"url\": \"https://www.castletoysandgames.com/big-fat-notebook-american-history.html\",\n",
      "    \"file_path\": \"s3://commoncrawl/crawl-data/CC-MAIN-2021-17/segments/1618039490226.78/warc/CC-MAIN-20210420183658-20210420213658-00415.warc.gz\",\n",
      "    \"language\": \"en\",\n",
      "    \"language_score\": 0.9010434746742249,\n",
      "    \"token_count\": 99,\n",
      "    \"score\": 2.9375,\n",
      "    \"int_score\": 3\n",
      "  }\n",
      "}\n",
      "[8] {\n",
      "  \"text\": \"As Maya Angelou so wisely stated, \\u201cYou can\\u2019t use up creativity. The more you use, the more you have.\\u201d One of the central joys of being a child is exercising your creative powers. The sky\\u2019s the limit for what your dreams can conjure. With each generation, these imaginative children become adults that defy expectations and norms with dreams that they make real. Creative children grow to be creative adults, putting mankind on the moon, inventing new devices that change the way we live, delving into the arts to reach our heart and soul, and so much more.\\nCharacteristics of Creative Children\\nWhat defines highly creative children? There are 10 traits that psychoanalysts look for when identifying a creative child.\\nDifferent thinking patterns\\n- Children that think outside the box are thought of as highly creative.\\nPotential for creative tasks\\n- Creative children can produce various projects and products that reinforce creative thinking, whether it be via art, building, drama or any other form of creative expression.\\nMake connections between seemingly unrelated ideas\\n- Creative children spontaneously build bridges between different abstractions, such as a character in a book and a similar person in real life.\\nMultiple ideas for solutions to a problem\\n- Creative children not only contemplate different ideas but also determine which would be the most preferred after mentally listing and evaluating the relevant factors.\\nTendency to imagine and daydream\\n- Focus is great, but letting the mind wander and explore is an important piece of creative thinking.\\nEnjoy improving and modifying ideas and plans\\n- Not only do creative children generate ideas, but they also modify and improve those of others.\\nKeen sense of humor\\n- Keep laughing. Finding humor in situations is tied to a greater ability to tap into your creative juices.\\nWonder and ask questions\\n- Children with highly developed creative skills often focus on how and why things oc\n",
      "[9] {\n",
      "  \"text\": \"physics. HELP PLEASE\\nposted by chelsea .\\nOne method for measuring the speed of sound uses standing waves. A cylindrical tube is open at both ends, and one end admits sound from a tuning fork. A movable plunger is inserted into the other end at a distance L from the end of the tube where the tuning fork is. For a fixed frequency, the plunger is moved until the smallest value of L is measured that allows a standing wave to be formed. Suppose that the tuning fork produces a 449-Hz tone, and that the smallest value observed for L is 0.202 m. What is the speed of sound in the gas in the tube?\\nThe open end is antinode for the standing wave in air column, the closed end (plunger) is nod, => L= \\u03bb/4 => \\u03bb = 4\\u2022L.\\n4\\u2022L = v/f.\\nv = 4\\u2022L\\u2022 f =4v0.202\\u2022449 =362.8 m/s\",\n",
      "  \"id\": \"<urn:uuid:ee5722ee-2deb-4242-b962-309320aaa4e0>\",\n",
      "  \"metadata\": {\n",
      "    \"dump\": \"CC-MAIN-2017-34\",\n",
      "    \"url\": \"https://www.jiskha.com/display.cgi?id=1335894017\",\n",
      "    \"file_path\": \"s3://commoncrawl/crawl-data/CC-MAIN-2017-34/segments/1502886101966.48/warc/CC-MAIN-20170816125013-20170816145013-00318.warc.gz\",\n",
      "    \"language\": \"en\",\n",
      "    \"language_score\": 0.9213712215423584,\n",
      "    \"token_count\": 214,\n",
      "    \"score\": 3.953125,\n",
      "    \"int_score\": 4\n",
      "  }\n",
      "}\n"
     ]
    }
   ],
   "source": [
    "import json\n",
    "from itertools import islice\n",
    "\n",
    "path = \"/juice5/scr5/nlp/data/huggingface/lingua-data/fineweb_edu_10bt_shuffled/fineweb_edu_10bt.chunk.00.jsonl\"\n",
    "k = 10                      # how many examples you want to inspect\n",
    "\n",
    "with open(path, \"r\", encoding=\"utf-8\") as f:\n",
    "    for idx, line in enumerate(islice(f, k)):\n",
    "        obj = json.loads(line)\n",
    "        print(f\"[{idx}] {json.dumps(obj, indent=2)[:2000]}\")  # truncate if the example is huge"
   ]
  },
  {
   "cell_type": "code",
   "execution_count": null,
   "id": "d70e46be-c2a4-40a8-a343-123d49d60a80",
   "metadata": {},
   "outputs": [],
   "source": []
  }
 ],
 "metadata": {
  "kernelspec": {
   "display_name": "Python 3 (ipykernel)",
   "language": "python",
   "name": "python3"
  },
  "language_info": {
   "codemirror_mode": {
    "name": "ipython",
    "version": 3
   },
   "file_extension": ".py",
   "mimetype": "text/x-python",
   "name": "python",
   "nbconvert_exporter": "python",
   "pygments_lexer": "ipython3",
   "version": "3.10.16"
  }
 },
 "nbformat": 4,
 "nbformat_minor": 5
}
